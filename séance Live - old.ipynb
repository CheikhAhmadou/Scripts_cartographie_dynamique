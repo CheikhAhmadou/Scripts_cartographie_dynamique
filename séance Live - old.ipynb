{
 "cells": [
  {
   "cell_type": "markdown",
   "metadata": {},
   "source": [
    "# Jointure spatiale"
   ]
  },
  {
   "cell_type": "markdown",
   "metadata": {},
   "source": [
    "#  fusion de dataframes"
   ]
  },
  {
   "cell_type": "code",
   "execution_count": 1,
   "metadata": {},
   "outputs": [],
   "source": [
    "import pandas as pd\n",
    "import geopandas"
   ]
  },
  {
   "cell_type": "code",
   "execution_count": null,
   "metadata": {},
   "outputs": [],
   "source": [
    "ls data"
   ]
  },
  {
   "cell_type": "code",
   "execution_count": 4,
   "metadata": {},
   "outputs": [],
   "source": [
    "# on suppose que l'on a un dossier data/ dans le répertoire courant\n",
    "lesPays = geopandas.read_file(\"zip://./data/ne_110m_admin_0_countries.zip\")"
   ]
  },
  {
   "cell_type": "code",
   "execution_count": 5,
   "metadata": {},
   "outputs": [],
   "source": [
    "lesVilles = geopandas.read_file(\"zip://./data/ne_110m_populated_places.zip\")"
   ]
  },
  {
   "cell_type": "code",
   "execution_count": 6,
   "metadata": {},
   "outputs": [],
   "source": [
    "lesFleuves = geopandas.read_file(\"zip://./ne_50m_rivers_lake_centerlines.zip\")"
   ]
  },
  {
   "cell_type": "code",
   "execution_count": 7,
   "metadata": {},
   "outputs": [
    {
     "data": {
      "text/plain": [
       "Index(['name', 'geometry'], dtype='object')"
      ]
     },
     "execution_count": 7,
     "metadata": {},
     "output_type": "execute_result"
    }
   ],
   "source": [
    "# on regarde les entêtes des colonnes\n",
    "lesVilles.columns"
   ]
  },
  {
   "cell_type": "code",
   "execution_count": 14,
   "metadata": {},
   "outputs": [
    {
     "data": {
      "text/html": [
       "<div>\n",
       "<style scoped>\n",
       "    .dataframe tbody tr th:only-of-type {\n",
       "        vertical-align: middle;\n",
       "    }\n",
       "\n",
       "    .dataframe tbody tr th {\n",
       "        vertical-align: top;\n",
       "    }\n",
       "\n",
       "    .dataframe thead th {\n",
       "        text-align: right;\n",
       "    }\n",
       "</style>\n",
       "<table border=\"1\" class=\"dataframe\">\n",
       "  <thead>\n",
       "    <tr style=\"text-align: right;\">\n",
       "      <th></th>\n",
       "      <th>name</th>\n",
       "      <th>geometry</th>\n",
       "    </tr>\n",
       "  </thead>\n",
       "  <tbody>\n",
       "    <tr>\n",
       "      <th>144</th>\n",
       "      <td>Hanoi</td>\n",
       "      <td>POINT (105.84807 21.03527)</td>\n",
       "    </tr>\n",
       "    <tr>\n",
       "      <th>219</th>\n",
       "      <td>London</td>\n",
       "      <td>POINT (-0.11867 51.50194)</td>\n",
       "    </tr>\n",
       "    <tr>\n",
       "      <th>235</th>\n",
       "      <td>Paris</td>\n",
       "      <td>POINT (2.33139 48.86864)</td>\n",
       "    </tr>\n",
       "  </tbody>\n",
       "</table>\n",
       "</div>"
      ],
      "text/plain": [
       "       name                    geometry\n",
       "144   Hanoi  POINT (105.84807 21.03527)\n",
       "219  London   POINT (-0.11867 51.50194)\n",
       "235   Paris    POINT (2.33139 48.86864)"
      ]
     },
     "execution_count": 14,
     "metadata": {},
     "output_type": "execute_result"
    }
   ],
   "source": [
    "# on peut sélectionner quelques villes\n",
    "lesVilles[lesVilles['name'].isin(['London','Paris', 'Hanoi'])]"
   ]
  },
  {
   "cell_type": "code",
   "execution_count": null,
   "metadata": {},
   "outputs": [],
   "source": [
    "# on va vouloir sélection des villes selon le Pays et récupérer des informations communes\n",
    "# pour faire un affichage \"élaboré\" à partir des deux séries, villes et pays"
   ]
  },
  {
   "cell_type": "code",
   "execution_count": 22,
   "metadata": {},
   "outputs": [],
   "source": [
    "Liste = ['London','Paris', 'Bern', 'Brussels']\n",
    "lesVilles2 = lesVilles[lesVilles['name'].isin(Liste)].copy()"
   ]
  },
  {
   "cell_type": "code",
   "execution_count": 23,
   "metadata": {},
   "outputs": [
    {
     "data": {
      "text/html": [
       "<div>\n",
       "<style scoped>\n",
       "    .dataframe tbody tr th:only-of-type {\n",
       "        vertical-align: middle;\n",
       "    }\n",
       "\n",
       "    .dataframe tbody tr th {\n",
       "        vertical-align: top;\n",
       "    }\n",
       "\n",
       "    .dataframe thead th {\n",
       "        text-align: right;\n",
       "    }\n",
       "</style>\n",
       "<table border=\"1\" class=\"dataframe\">\n",
       "  <thead>\n",
       "    <tr style=\"text-align: right;\">\n",
       "      <th></th>\n",
       "      <th>name</th>\n",
       "      <th>geometry</th>\n",
       "    </tr>\n",
       "  </thead>\n",
       "  <tbody>\n",
       "    <tr>\n",
       "      <th>26</th>\n",
       "      <td>Bern</td>\n",
       "      <td>POINT (7.46698 46.91668)</td>\n",
       "    </tr>\n",
       "    <tr>\n",
       "      <th>170</th>\n",
       "      <td>Brussels</td>\n",
       "      <td>POINT (4.33137 50.83526)</td>\n",
       "    </tr>\n",
       "    <tr>\n",
       "      <th>219</th>\n",
       "      <td>London</td>\n",
       "      <td>POINT (-0.11867 51.50194)</td>\n",
       "    </tr>\n",
       "    <tr>\n",
       "      <th>235</th>\n",
       "      <td>Paris</td>\n",
       "      <td>POINT (2.33139 48.86864)</td>\n",
       "    </tr>\n",
       "  </tbody>\n",
       "</table>\n",
       "</div>"
      ],
      "text/plain": [
       "         name                   geometry\n",
       "26       Bern   POINT (7.46698 46.91668)\n",
       "170  Brussels   POINT (4.33137 50.83526)\n",
       "219    London  POINT (-0.11867 51.50194)\n",
       "235     Paris   POINT (2.33139 48.86864)"
      ]
     },
     "execution_count": 23,
     "metadata": {},
     "output_type": "execute_result"
    }
   ],
   "source": [
    "lesVilles2"
   ]
  },
  {
   "cell_type": "code",
   "execution_count": 24,
   "metadata": {},
   "outputs": [
    {
     "data": {
      "text/html": [
       "<div>\n",
       "<style scoped>\n",
       "    .dataframe tbody tr th:only-of-type {\n",
       "        vertical-align: middle;\n",
       "    }\n",
       "\n",
       "    .dataframe tbody tr th {\n",
       "        vertical-align: top;\n",
       "    }\n",
       "\n",
       "    .dataframe thead th {\n",
       "        text-align: right;\n",
       "    }\n",
       "</style>\n",
       "<table border=\"1\" class=\"dataframe\">\n",
       "  <thead>\n",
       "    <tr style=\"text-align: right;\">\n",
       "      <th></th>\n",
       "      <th>iso_a3</th>\n",
       "      <th>name</th>\n",
       "      <th>continent</th>\n",
       "      <th>pop_est</th>\n",
       "      <th>gdp_md_est</th>\n",
       "      <th>geometry</th>\n",
       "    </tr>\n",
       "  </thead>\n",
       "  <tbody>\n",
       "    <tr>\n",
       "      <th>0</th>\n",
       "      <td>AFG</td>\n",
       "      <td>Afghanistan</td>\n",
       "      <td>Asia</td>\n",
       "      <td>34124811.0</td>\n",
       "      <td>64080.0</td>\n",
       "      <td>POLYGON ((61.21082 35.65007, 62.23065 35.27066...</td>\n",
       "    </tr>\n",
       "    <tr>\n",
       "      <th>1</th>\n",
       "      <td>AGO</td>\n",
       "      <td>Angola</td>\n",
       "      <td>Africa</td>\n",
       "      <td>29310273.0</td>\n",
       "      <td>189000.0</td>\n",
       "      <td>MULTIPOLYGON (((23.90415 -11.72228, 24.07991 -...</td>\n",
       "    </tr>\n",
       "    <tr>\n",
       "      <th>2</th>\n",
       "      <td>ALB</td>\n",
       "      <td>Albania</td>\n",
       "      <td>Europe</td>\n",
       "      <td>3047987.0</td>\n",
       "      <td>33900.0</td>\n",
       "      <td>POLYGON ((21.02004 40.84273, 20.99999 40.58000...</td>\n",
       "    </tr>\n",
       "    <tr>\n",
       "      <th>3</th>\n",
       "      <td>ARE</td>\n",
       "      <td>United Arab Emirates</td>\n",
       "      <td>Asia</td>\n",
       "      <td>6072475.0</td>\n",
       "      <td>667200.0</td>\n",
       "      <td>POLYGON ((51.57952 24.24550, 51.75744 24.29407...</td>\n",
       "    </tr>\n",
       "    <tr>\n",
       "      <th>4</th>\n",
       "      <td>ARG</td>\n",
       "      <td>Argentina</td>\n",
       "      <td>South America</td>\n",
       "      <td>44293293.0</td>\n",
       "      <td>879400.0</td>\n",
       "      <td>MULTIPOLYGON (((-66.95992 -54.89681, -67.56244...</td>\n",
       "    </tr>\n",
       "  </tbody>\n",
       "</table>\n",
       "</div>"
      ],
      "text/plain": [
       "  iso_a3                  name      continent     pop_est  gdp_md_est  \\\n",
       "0    AFG           Afghanistan           Asia  34124811.0     64080.0   \n",
       "1    AGO                Angola         Africa  29310273.0    189000.0   \n",
       "2    ALB               Albania         Europe   3047987.0     33900.0   \n",
       "3    ARE  United Arab Emirates           Asia   6072475.0    667200.0   \n",
       "4    ARG             Argentina  South America  44293293.0    879400.0   \n",
       "\n",
       "                                            geometry  \n",
       "0  POLYGON ((61.21082 35.65007, 62.23065 35.27066...  \n",
       "1  MULTIPOLYGON (((23.90415 -11.72228, 24.07991 -...  \n",
       "2  POLYGON ((21.02004 40.84273, 20.99999 40.58000...  \n",
       "3  POLYGON ((51.57952 24.24550, 51.75744 24.29407...  \n",
       "4  MULTIPOLYGON (((-66.95992 -54.89681, -67.56244...  "
      ]
     },
     "execution_count": 24,
     "metadata": {},
     "output_type": "execute_result"
    }
   ],
   "source": [
    "# examinons la structure du fichier lesPays (qui concerne les continents et les pays)\n",
    "lesPays.head()"
   ]
  },
  {
   "cell_type": "code",
   "execution_count": 25,
   "metadata": {},
   "outputs": [
    {
     "data": {
      "text/plain": [
       "Index(['iso_a3', 'name', 'continent', 'pop_est', 'gdp_md_est', 'geometry'], dtype='object')"
      ]
     },
     "execution_count": 25,
     "metadata": {},
     "output_type": "execute_result"
    }
   ],
   "source": [
    "# en examinant le nom des colonnes/entête, je vois \"iso_a3\" comme étiquette intéressante\n",
    "lesPays.columns"
   ]
  },
  {
   "cell_type": "code",
   "execution_count": 26,
   "metadata": {},
   "outputs": [],
   "source": [
    "# je fabrique une colonne supplémentaire avec une information cruciale pour relier les données\n",
    "lesVilles2['iso_a3'] = ['CHE', 'BEL', 'GBR', 'FRA']"
   ]
  },
  {
   "cell_type": "code",
   "execution_count": 27,
   "metadata": {},
   "outputs": [
    {
     "data": {
      "text/plain": [
       "Index(['name', 'geometry', 'iso_a3'], dtype='object')"
      ]
     },
     "execution_count": 27,
     "metadata": {},
     "output_type": "execute_result"
    }
   ],
   "source": [
    "lesVilles2.columns"
   ]
  },
  {
   "cell_type": "code",
   "execution_count": 29,
   "metadata": {},
   "outputs": [
    {
     "data": {
      "text/html": [
       "<div>\n",
       "<style scoped>\n",
       "    .dataframe tbody tr th:only-of-type {\n",
       "        vertical-align: middle;\n",
       "    }\n",
       "\n",
       "    .dataframe tbody tr th {\n",
       "        vertical-align: top;\n",
       "    }\n",
       "\n",
       "    .dataframe thead th {\n",
       "        text-align: right;\n",
       "    }\n",
       "</style>\n",
       "<table border=\"1\" class=\"dataframe\">\n",
       "  <thead>\n",
       "    <tr style=\"text-align: right;\">\n",
       "      <th></th>\n",
       "      <th>name</th>\n",
       "      <th>geometry</th>\n",
       "      <th>iso_a3</th>\n",
       "    </tr>\n",
       "  </thead>\n",
       "  <tbody>\n",
       "    <tr>\n",
       "      <th>26</th>\n",
       "      <td>Bern</td>\n",
       "      <td>POINT (7.46698 46.91668)</td>\n",
       "      <td>CHE</td>\n",
       "    </tr>\n",
       "    <tr>\n",
       "      <th>170</th>\n",
       "      <td>Brussels</td>\n",
       "      <td>POINT (4.33137 50.83526)</td>\n",
       "      <td>BEL</td>\n",
       "    </tr>\n",
       "    <tr>\n",
       "      <th>219</th>\n",
       "      <td>London</td>\n",
       "      <td>POINT (-0.11867 51.50194)</td>\n",
       "      <td>GBR</td>\n",
       "    </tr>\n",
       "    <tr>\n",
       "      <th>235</th>\n",
       "      <td>Paris</td>\n",
       "      <td>POINT (2.33139 48.86864)</td>\n",
       "      <td>FRA</td>\n",
       "    </tr>\n",
       "  </tbody>\n",
       "</table>\n",
       "</div>"
      ],
      "text/plain": [
       "         name                   geometry iso_a3\n",
       "26       Bern   POINT (7.46698 46.91668)    CHE\n",
       "170  Brussels   POINT (4.33137 50.83526)    BEL\n",
       "219    London  POINT (-0.11867 51.50194)    GBR\n",
       "235     Paris   POINT (2.33139 48.86864)    FRA"
      ]
     },
     "execution_count": 29,
     "metadata": {},
     "output_type": "execute_result"
    }
   ],
   "source": [
    "lesVilles2\n",
    "# je dispose donc d'un jeu de données pour des villes avec l'info du pays où elles se trouvent"
   ]
  },
  {
   "cell_type": "code",
   "execution_count": 30,
   "metadata": {},
   "outputs": [],
   "source": [
    "# toujours un petit jeu de données mais sur les pays\n",
    "lesPays2 = lesPays[['iso_a3', 'name', 'continent']].copy()"
   ]
  },
  {
   "cell_type": "code",
   "execution_count": 32,
   "metadata": {},
   "outputs": [
    {
     "data": {
      "text/html": [
       "<div>\n",
       "<style scoped>\n",
       "    .dataframe tbody tr th:only-of-type {\n",
       "        vertical-align: middle;\n",
       "    }\n",
       "\n",
       "    .dataframe tbody tr th {\n",
       "        vertical-align: top;\n",
       "    }\n",
       "\n",
       "    .dataframe thead th {\n",
       "        text-align: right;\n",
       "    }\n",
       "</style>\n",
       "<table border=\"1\" class=\"dataframe\">\n",
       "  <thead>\n",
       "    <tr style=\"text-align: right;\">\n",
       "      <th></th>\n",
       "      <th>iso_a3</th>\n",
       "      <th>name</th>\n",
       "      <th>continent</th>\n",
       "    </tr>\n",
       "  </thead>\n",
       "  <tbody>\n",
       "    <tr>\n",
       "      <th>0</th>\n",
       "      <td>AFG</td>\n",
       "      <td>Afghanistan</td>\n",
       "      <td>Asia</td>\n",
       "    </tr>\n",
       "    <tr>\n",
       "      <th>1</th>\n",
       "      <td>AGO</td>\n",
       "      <td>Angola</td>\n",
       "      <td>Africa</td>\n",
       "    </tr>\n",
       "    <tr>\n",
       "      <th>2</th>\n",
       "      <td>ALB</td>\n",
       "      <td>Albania</td>\n",
       "      <td>Europe</td>\n",
       "    </tr>\n",
       "    <tr>\n",
       "      <th>3</th>\n",
       "      <td>ARE</td>\n",
       "      <td>United Arab Emirates</td>\n",
       "      <td>Asia</td>\n",
       "    </tr>\n",
       "    <tr>\n",
       "      <th>4</th>\n",
       "      <td>ARG</td>\n",
       "      <td>Argentina</td>\n",
       "      <td>South America</td>\n",
       "    </tr>\n",
       "  </tbody>\n",
       "</table>\n",
       "</div>"
      ],
      "text/plain": [
       "  iso_a3                  name      continent\n",
       "0    AFG           Afghanistan           Asia\n",
       "1    AGO                Angola         Africa\n",
       "2    ALB               Albania         Europe\n",
       "3    ARE  United Arab Emirates           Asia\n",
       "4    ARG             Argentina  South America"
      ]
     },
     "execution_count": 32,
     "metadata": {},
     "output_type": "execute_result"
    }
   ],
   "source": [
    "lesPays2.head()"
   ]
  },
  {
   "cell_type": "code",
   "execution_count": 33,
   "metadata": {},
   "outputs": [
    {
     "data": {
      "text/html": [
       "<div>\n",
       "<style scoped>\n",
       "    .dataframe tbody tr th:only-of-type {\n",
       "        vertical-align: middle;\n",
       "    }\n",
       "\n",
       "    .dataframe tbody tr th {\n",
       "        vertical-align: top;\n",
       "    }\n",
       "\n",
       "    .dataframe thead th {\n",
       "        text-align: right;\n",
       "    }\n",
       "</style>\n",
       "<table border=\"1\" class=\"dataframe\">\n",
       "  <thead>\n",
       "    <tr style=\"text-align: right;\">\n",
       "      <th></th>\n",
       "      <th>name_x</th>\n",
       "      <th>geometry</th>\n",
       "      <th>iso_a3</th>\n",
       "      <th>name_y</th>\n",
       "      <th>continent</th>\n",
       "    </tr>\n",
       "  </thead>\n",
       "  <tbody>\n",
       "    <tr>\n",
       "      <th>0</th>\n",
       "      <td>Bern</td>\n",
       "      <td>POINT (7.46698 46.91668)</td>\n",
       "      <td>CHE</td>\n",
       "      <td>Switzerland</td>\n",
       "      <td>Europe</td>\n",
       "    </tr>\n",
       "    <tr>\n",
       "      <th>1</th>\n",
       "      <td>Brussels</td>\n",
       "      <td>POINT (4.33137 50.83526)</td>\n",
       "      <td>BEL</td>\n",
       "      <td>Belgium</td>\n",
       "      <td>Europe</td>\n",
       "    </tr>\n",
       "    <tr>\n",
       "      <th>2</th>\n",
       "      <td>London</td>\n",
       "      <td>POINT (-0.11867 51.50194)</td>\n",
       "      <td>GBR</td>\n",
       "      <td>United Kingdom</td>\n",
       "      <td>Europe</td>\n",
       "    </tr>\n",
       "    <tr>\n",
       "      <th>3</th>\n",
       "      <td>Paris</td>\n",
       "      <td>POINT (2.33139 48.86864)</td>\n",
       "      <td>FRA</td>\n",
       "      <td>France</td>\n",
       "      <td>Europe</td>\n",
       "    </tr>\n",
       "  </tbody>\n",
       "</table>\n",
       "</div>"
      ],
      "text/plain": [
       "     name_x                   geometry iso_a3          name_y continent\n",
       "0      Bern   POINT (7.46698 46.91668)    CHE     Switzerland    Europe\n",
       "1  Brussels   POINT (4.33137 50.83526)    BEL         Belgium    Europe\n",
       "2    London  POINT (-0.11867 51.50194)    GBR  United Kingdom    Europe\n",
       "3     Paris   POINT (2.33139 48.86864)    FRA          France    Europe"
      ]
     },
     "execution_count": 33,
     "metadata": {},
     "output_type": "execute_result"
    }
   ],
   "source": [
    "# MAINTENANT je peux fusionner des données selon l'information sur l'id (iso_a3) du pays\n",
    "lesVilles2.merge(lesPays2, on='iso_a3')"
   ]
  },
  {
   "cell_type": "code",
   "execution_count": 34,
   "metadata": {},
   "outputs": [],
   "source": [
    "# RETENIR : pour fusionner deux dataframes, x, et y, il faut une CLE commune (ici iso_a3)"
   ]
  },
  {
   "cell_type": "markdown",
   "metadata": {},
   "source": [
    "### On peut cependant trouver comment joindre ces deux ensembles 'villes' et 'pays' si on a l'information fournie par des objets géométriques\n",
    "+ les villes sont des POINTS\n",
    "+ les pays sont des (MULTI)-POLYGONES\n",
    "\n",
    "+ within(POINT dans POLYGONE), contains (POLYGONE contient POINT), intersects (quand on a affaire à des LINESTRING"
   ]
  },
  {
   "cell_type": "code",
   "execution_count": 46,
   "metadata": {},
   "outputs": [],
   "source": [
    "presquenFrance = lesPays.loc[ lesPays['name']=='France' , 'geometry'].squeeze()"
   ]
  },
  {
   "cell_type": "code",
   "execution_count": 48,
   "metadata": {},
   "outputs": [
    {
     "data": {
      "text/plain": [
       "shapely.geometry.multipolygon.MultiPolygon"
      ]
     },
     "execution_count": 48,
     "metadata": {},
     "output_type": "execute_result"
    }
   ],
   "source": [
    "type(presquenFrance)"
   ]
  },
  {
   "cell_type": "code",
   "execution_count": 49,
   "metadata": {},
   "outputs": [],
   "source": [
    "# On obtient une série booleenne\n",
    "filtre = lesVilles.within(presquenFrance)"
   ]
  },
  {
   "cell_type": "code",
   "execution_count": 50,
   "metadata": {},
   "outputs": [
    {
     "data": {
      "text/html": [
       "<div>\n",
       "<style scoped>\n",
       "    .dataframe tbody tr th:only-of-type {\n",
       "        vertical-align: middle;\n",
       "    }\n",
       "\n",
       "    .dataframe tbody tr th {\n",
       "        vertical-align: top;\n",
       "    }\n",
       "\n",
       "    .dataframe thead th {\n",
       "        text-align: right;\n",
       "    }\n",
       "</style>\n",
       "<table border=\"1\" class=\"dataframe\">\n",
       "  <thead>\n",
       "    <tr style=\"text-align: right;\">\n",
       "      <th></th>\n",
       "      <th>name</th>\n",
       "      <th>geometry</th>\n",
       "    </tr>\n",
       "  </thead>\n",
       "  <tbody>\n",
       "    <tr>\n",
       "      <th>10</th>\n",
       "      <td>Monaco</td>\n",
       "      <td>POINT (7.40691 43.73965)</td>\n",
       "    </tr>\n",
       "    <tr>\n",
       "      <th>13</th>\n",
       "      <td>Andorra</td>\n",
       "      <td>POINT (1.51649 42.50000)</td>\n",
       "    </tr>\n",
       "    <tr>\n",
       "      <th>186</th>\n",
       "      <td>Geneva</td>\n",
       "      <td>POINT (6.14003 46.21001)</td>\n",
       "    </tr>\n",
       "    <tr>\n",
       "      <th>235</th>\n",
       "      <td>Paris</td>\n",
       "      <td>POINT (2.33139 48.86864)</td>\n",
       "    </tr>\n",
       "  </tbody>\n",
       "</table>\n",
       "</div>"
      ],
      "text/plain": [
       "        name                  geometry\n",
       "10    Monaco  POINT (7.40691 43.73965)\n",
       "13   Andorra  POINT (1.51649 42.50000)\n",
       "186   Geneva  POINT (6.14003 46.21001)\n",
       "235    Paris  POINT (2.33139 48.86864)"
      ]
     },
     "execution_count": 50,
     "metadata": {},
     "output_type": "execute_result"
    }
   ],
   "source": [
    "lesVilles[filtre]"
   ]
  },
  {
   "cell_type": "code",
   "execution_count": 52,
   "metadata": {},
   "outputs": [
    {
     "data": {
      "text/html": [
       "<div>\n",
       "<style scoped>\n",
       "    .dataframe tbody tr th:only-of-type {\n",
       "        vertical-align: middle;\n",
       "    }\n",
       "\n",
       "    .dataframe tbody tr th {\n",
       "        vertical-align: top;\n",
       "    }\n",
       "\n",
       "    .dataframe thead th {\n",
       "        text-align: right;\n",
       "    }\n",
       "</style>\n",
       "<table border=\"1\" class=\"dataframe\">\n",
       "  <thead>\n",
       "    <tr style=\"text-align: right;\">\n",
       "      <th></th>\n",
       "      <th>name</th>\n",
       "      <th>geometry</th>\n",
       "    </tr>\n",
       "  </thead>\n",
       "  <tbody>\n",
       "    <tr>\n",
       "      <th>10</th>\n",
       "      <td>Monaco</td>\n",
       "      <td>POINT (7.40691 43.73965)</td>\n",
       "    </tr>\n",
       "    <tr>\n",
       "      <th>13</th>\n",
       "      <td>Andorra</td>\n",
       "      <td>POINT (1.51649 42.50000)</td>\n",
       "    </tr>\n",
       "    <tr>\n",
       "      <th>186</th>\n",
       "      <td>Geneva</td>\n",
       "      <td>POINT (6.14003 46.21001)</td>\n",
       "    </tr>\n",
       "    <tr>\n",
       "      <th>235</th>\n",
       "      <td>Paris</td>\n",
       "      <td>POINT (2.33139 48.86864)</td>\n",
       "    </tr>\n",
       "  </tbody>\n",
       "</table>\n",
       "</div>"
      ],
      "text/plain": [
       "        name                  geometry\n",
       "10    Monaco  POINT (7.40691 43.73965)\n",
       "13   Andorra  POINT (1.51649 42.50000)\n",
       "186   Geneva  POINT (6.14003 46.21001)\n",
       "235    Paris  POINT (2.33139 48.86864)"
      ]
     },
     "execution_count": 52,
     "metadata": {},
     "output_type": "execute_result"
    }
   ],
   "source": [
    "# c'est à dire\n",
    "lesVilles[lesVilles.within(presquenFrance)]"
   ]
  },
  {
   "cell_type": "code",
   "execution_count": 53,
   "metadata": {},
   "outputs": [],
   "source": [
    "# pour résumer ce que l'on a fait on peut relier deux jeux de données soit par une clé,\n",
    "# soit par une opération géométrique grâce à un opérateur binaire (within, contains, intersects)"
   ]
  },
  {
   "cell_type": "markdown",
   "metadata": {},
   "source": [
    "## Opération de jointure spatiale\n",
    "Transférer les attributs d'une dataframe à l'autre en fonction de relation spatiale\n",
    "\n",
    "+ il faut connaître, le geodataframe auquel on veut ajouter des informations\n",
    "+ il faut connaître, le geodataframe qui contient les informations que l'on veut ajouter\n",
    "+ il faut la relation spatiale pour faire correspondre les 2 ensembles de données\n",
    "+ le type de \"join\" à effectuer\n",
    "\n",
    "Ici on va utiliser la fonctionnalité `geopandas.sjoin`\n"
   ]
  },
  {
   "cell_type": "code",
   "execution_count": null,
   "metadata": {},
   "outputs": [],
   "source": [
    "# on veut faire la jointure entre les villes et les pays sur la base de la relation\n",
    "# spatiale existante"
   ]
  },
  {
   "cell_type": "code",
   "execution_count": 54,
   "metadata": {},
   "outputs": [],
   "source": [
    "jointure = geopandas.sjoin(lesVilles, lesPays, op='within', how='left')"
   ]
  },
  {
   "cell_type": "code",
   "execution_count": 56,
   "metadata": {},
   "outputs": [
    {
     "data": {
      "text/plain": [
       "geopandas.geodataframe.GeoDataFrame"
      ]
     },
     "execution_count": 56,
     "metadata": {},
     "output_type": "execute_result"
    }
   ],
   "source": [
    "type(jointure)"
   ]
  },
  {
   "cell_type": "code",
   "execution_count": 57,
   "metadata": {},
   "outputs": [
    {
     "data": {
      "text/plain": [
       "Index(['name_left', 'geometry', 'index_right', 'iso_a3', 'name_right',\n",
       "       'continent', 'pop_est', 'gdp_md_est'],\n",
       "      dtype='object')"
      ]
     },
     "execution_count": 57,
     "metadata": {},
     "output_type": "execute_result"
    }
   ],
   "source": [
    "jointure.columns"
   ]
  },
  {
   "cell_type": "code",
   "execution_count": 61,
   "metadata": {},
   "outputs": [
    {
     "data": {
      "text/html": [
       "<div>\n",
       "<style scoped>\n",
       "    .dataframe tbody tr th:only-of-type {\n",
       "        vertical-align: middle;\n",
       "    }\n",
       "\n",
       "    .dataframe tbody tr th {\n",
       "        vertical-align: top;\n",
       "    }\n",
       "\n",
       "    .dataframe thead th {\n",
       "        text-align: right;\n",
       "    }\n",
       "</style>\n",
       "<table border=\"1\" class=\"dataframe\">\n",
       "  <thead>\n",
       "    <tr style=\"text-align: right;\">\n",
       "      <th></th>\n",
       "      <th>name_left</th>\n",
       "      <th>geometry</th>\n",
       "      <th>index_right</th>\n",
       "      <th>iso_a3</th>\n",
       "      <th>name_right</th>\n",
       "      <th>continent</th>\n",
       "      <th>pop_est</th>\n",
       "      <th>gdp_md_est</th>\n",
       "    </tr>\n",
       "  </thead>\n",
       "  <tbody>\n",
       "    <tr>\n",
       "      <th>0</th>\n",
       "      <td>Vatican City</td>\n",
       "      <td>POINT (12.45339 41.90328)</td>\n",
       "      <td>79.0</td>\n",
       "      <td>ITA</td>\n",
       "      <td>Italy</td>\n",
       "      <td>Europe</td>\n",
       "      <td>62137802.0</td>\n",
       "      <td>2221000.0</td>\n",
       "    </tr>\n",
       "    <tr>\n",
       "      <th>1</th>\n",
       "      <td>San Marino</td>\n",
       "      <td>POINT (12.44177 43.93610)</td>\n",
       "      <td>79.0</td>\n",
       "      <td>ITA</td>\n",
       "      <td>Italy</td>\n",
       "      <td>Europe</td>\n",
       "      <td>62137802.0</td>\n",
       "      <td>2221000.0</td>\n",
       "    </tr>\n",
       "    <tr>\n",
       "      <th>2</th>\n",
       "      <td>Vaduz</td>\n",
       "      <td>POINT (9.51667 47.13372)</td>\n",
       "      <td>9.0</td>\n",
       "      <td>AUT</td>\n",
       "      <td>Austria</td>\n",
       "      <td>Europe</td>\n",
       "      <td>8754413.0</td>\n",
       "      <td>416600.0</td>\n",
       "    </tr>\n",
       "    <tr>\n",
       "      <th>3</th>\n",
       "      <td>Lobamba</td>\n",
       "      <td>POINT (31.20000 -26.46667)</td>\n",
       "      <td>152.0</td>\n",
       "      <td>SWZ</td>\n",
       "      <td>Swaziland</td>\n",
       "      <td>Africa</td>\n",
       "      <td>1467152.0</td>\n",
       "      <td>11060.0</td>\n",
       "    </tr>\n",
       "    <tr>\n",
       "      <th>4</th>\n",
       "      <td>Luxembourg</td>\n",
       "      <td>POINT (6.13000 49.61166)</td>\n",
       "      <td>97.0</td>\n",
       "      <td>LUX</td>\n",
       "      <td>Luxembourg</td>\n",
       "      <td>Europe</td>\n",
       "      <td>594130.0</td>\n",
       "      <td>58740.0</td>\n",
       "    </tr>\n",
       "  </tbody>\n",
       "</table>\n",
       "</div>"
      ],
      "text/plain": [
       "      name_left                    geometry  index_right iso_a3  name_right  \\\n",
       "0  Vatican City   POINT (12.45339 41.90328)         79.0    ITA       Italy   \n",
       "1    San Marino   POINT (12.44177 43.93610)         79.0    ITA       Italy   \n",
       "2         Vaduz    POINT (9.51667 47.13372)          9.0    AUT     Austria   \n",
       "3       Lobamba  POINT (31.20000 -26.46667)        152.0    SWZ   Swaziland   \n",
       "4    Luxembourg    POINT (6.13000 49.61166)         97.0    LUX  Luxembourg   \n",
       "\n",
       "  continent     pop_est  gdp_md_est  \n",
       "0    Europe  62137802.0   2221000.0  \n",
       "1    Europe  62137802.0   2221000.0  \n",
       "2    Europe   8754413.0    416600.0  \n",
       "3    Africa   1467152.0     11060.0  \n",
       "4    Europe    594130.0     58740.0  "
      ]
     },
     "execution_count": 61,
     "metadata": {},
     "output_type": "execute_result"
    }
   ],
   "source": [
    "# on note que c'est un fichier sur les villes \n",
    "jointure.head()"
   ]
  },
  {
   "cell_type": "code",
   "execution_count": 59,
   "metadata": {},
   "outputs": [],
   "source": [
    "# avantages? par exemple pour savoir combien de villes par continent dans ces données"
   ]
  },
  {
   "cell_type": "code",
   "execution_count": 62,
   "metadata": {},
   "outputs": [
    {
     "data": {
      "text/plain": [
       "Asia             59\n",
       "Africa           57\n",
       "Europe           46\n",
       "North America    26\n",
       "South America    14\n",
       "Oceania           8\n",
       "Name: continent, dtype: int64"
      ]
     },
     "execution_count": 62,
     "metadata": {},
     "output_type": "execute_result"
    }
   ],
   "source": [
    "jointure['continent'].value_counts()"
   ]
  },
  {
   "cell_type": "code",
   "execution_count": 63,
   "metadata": {},
   "outputs": [
    {
     "data": {
      "text/html": [
       "<div>\n",
       "<style scoped>\n",
       "    .dataframe tbody tr th:only-of-type {\n",
       "        vertical-align: middle;\n",
       "    }\n",
       "\n",
       "    .dataframe tbody tr th {\n",
       "        vertical-align: top;\n",
       "    }\n",
       "\n",
       "    .dataframe thead th {\n",
       "        text-align: right;\n",
       "    }\n",
       "</style>\n",
       "<table border=\"1\" class=\"dataframe\">\n",
       "  <thead>\n",
       "    <tr style=\"text-align: right;\">\n",
       "      <th></th>\n",
       "      <th>name_left</th>\n",
       "      <th>geometry</th>\n",
       "      <th>index_right</th>\n",
       "      <th>iso_a3</th>\n",
       "      <th>name_right</th>\n",
       "      <th>continent</th>\n",
       "      <th>pop_est</th>\n",
       "      <th>gdp_md_est</th>\n",
       "    </tr>\n",
       "  </thead>\n",
       "  <tbody>\n",
       "    <tr>\n",
       "      <th>0</th>\n",
       "      <td>Vatican City</td>\n",
       "      <td>POINT (12.45339 41.90328)</td>\n",
       "      <td>79.0</td>\n",
       "      <td>ITA</td>\n",
       "      <td>Italy</td>\n",
       "      <td>Europe</td>\n",
       "      <td>62137802.0</td>\n",
       "      <td>2221000.0</td>\n",
       "    </tr>\n",
       "    <tr>\n",
       "      <th>1</th>\n",
       "      <td>San Marino</td>\n",
       "      <td>POINT (12.44177 43.93610)</td>\n",
       "      <td>79.0</td>\n",
       "      <td>ITA</td>\n",
       "      <td>Italy</td>\n",
       "      <td>Europe</td>\n",
       "      <td>62137802.0</td>\n",
       "      <td>2221000.0</td>\n",
       "    </tr>\n",
       "    <tr>\n",
       "      <th>2</th>\n",
       "      <td>Vaduz</td>\n",
       "      <td>POINT (9.51667 47.13372)</td>\n",
       "      <td>9.0</td>\n",
       "      <td>AUT</td>\n",
       "      <td>Austria</td>\n",
       "      <td>Europe</td>\n",
       "      <td>8754413.0</td>\n",
       "      <td>416600.0</td>\n",
       "    </tr>\n",
       "    <tr>\n",
       "      <th>4</th>\n",
       "      <td>Luxembourg</td>\n",
       "      <td>POINT (6.13000 49.61166)</td>\n",
       "      <td>97.0</td>\n",
       "      <td>LUX</td>\n",
       "      <td>Luxembourg</td>\n",
       "      <td>Europe</td>\n",
       "      <td>594130.0</td>\n",
       "      <td>58740.0</td>\n",
       "    </tr>\n",
       "    <tr>\n",
       "      <th>10</th>\n",
       "      <td>Monaco</td>\n",
       "      <td>POINT (7.40691 43.73965)</td>\n",
       "      <td>55.0</td>\n",
       "      <td>FRA</td>\n",
       "      <td>France</td>\n",
       "      <td>Europe</td>\n",
       "      <td>67106161.0</td>\n",
       "      <td>2699000.0</td>\n",
       "    </tr>\n",
       "    <tr>\n",
       "      <th>13</th>\n",
       "      <td>Andorra</td>\n",
       "      <td>POINT (1.51649 42.50000)</td>\n",
       "      <td>55.0</td>\n",
       "      <td>FRA</td>\n",
       "      <td>France</td>\n",
       "      <td>Europe</td>\n",
       "      <td>67106161.0</td>\n",
       "      <td>2699000.0</td>\n",
       "    </tr>\n",
       "    <tr>\n",
       "      <th>18</th>\n",
       "      <td>The Hague</td>\n",
       "      <td>POINT (4.26996 52.08004)</td>\n",
       "      <td>117.0</td>\n",
       "      <td>NLD</td>\n",
       "      <td>Netherlands</td>\n",
       "      <td>Europe</td>\n",
       "      <td>17084719.0</td>\n",
       "      <td>870800.0</td>\n",
       "    </tr>\n",
       "    <tr>\n",
       "      <th>19</th>\n",
       "      <td>Ljubljana</td>\n",
       "      <td>POINT (14.51497 46.05529)</td>\n",
       "      <td>150.0</td>\n",
       "      <td>SVN</td>\n",
       "      <td>Slovenia</td>\n",
       "      <td>Europe</td>\n",
       "      <td>1972126.0</td>\n",
       "      <td>68350.0</td>\n",
       "    </tr>\n",
       "    <tr>\n",
       "      <th>20</th>\n",
       "      <td>Bratislava</td>\n",
       "      <td>POINT (17.11698 48.15002)</td>\n",
       "      <td>149.0</td>\n",
       "      <td>SVK</td>\n",
       "      <td>Slovakia</td>\n",
       "      <td>Europe</td>\n",
       "      <td>5445829.0</td>\n",
       "      <td>168800.0</td>\n",
       "    </tr>\n",
       "    <tr>\n",
       "      <th>22</th>\n",
       "      <td>Podgorica</td>\n",
       "      <td>POINT (19.26631 42.46597)</td>\n",
       "      <td>106.0</td>\n",
       "      <td>MNE</td>\n",
       "      <td>Montenegro</td>\n",
       "      <td>Europe</td>\n",
       "      <td>642550.0</td>\n",
       "      <td>10610.0</td>\n",
       "    </tr>\n",
       "    <tr>\n",
       "      <th>26</th>\n",
       "      <td>Bern</td>\n",
       "      <td>POINT (7.46698 46.91668)</td>\n",
       "      <td>28.0</td>\n",
       "      <td>CHE</td>\n",
       "      <td>Switzerland</td>\n",
       "      <td>Europe</td>\n",
       "      <td>8236303.0</td>\n",
       "      <td>496300.0</td>\n",
       "    </tr>\n",
       "    <tr>\n",
       "      <th>28</th>\n",
       "      <td>Pristina</td>\n",
       "      <td>POINT (21.16598 42.66671)</td>\n",
       "      <td>88.0</td>\n",
       "      <td>KOS</td>\n",
       "      <td>Kosovo</td>\n",
       "      <td>Europe</td>\n",
       "      <td>1895250.0</td>\n",
       "      <td>18490.0</td>\n",
       "    </tr>\n",
       "    <tr>\n",
       "      <th>34</th>\n",
       "      <td>Skopje</td>\n",
       "      <td>POINT (21.43346 42.00001)</td>\n",
       "      <td>103.0</td>\n",
       "      <td>MKD</td>\n",
       "      <td>Macedonia</td>\n",
       "      <td>Europe</td>\n",
       "      <td>2103721.0</td>\n",
       "      <td>29520.0</td>\n",
       "    </tr>\n",
       "    <tr>\n",
       "      <th>56</th>\n",
       "      <td>Reykjavík</td>\n",
       "      <td>POINT (-21.95001 64.15002)</td>\n",
       "      <td>77.0</td>\n",
       "      <td>ISL</td>\n",
       "      <td>Iceland</td>\n",
       "      <td>Europe</td>\n",
       "      <td>339747.0</td>\n",
       "      <td>16150.0</td>\n",
       "    </tr>\n",
       "    <tr>\n",
       "      <th>73</th>\n",
       "      <td>Chi?in?u</td>\n",
       "      <td>POINT (28.85771 47.00502)</td>\n",
       "      <td>100.0</td>\n",
       "      <td>MDA</td>\n",
       "      <td>Moldova</td>\n",
       "      <td>Europe</td>\n",
       "      <td>3474121.0</td>\n",
       "      <td>18540.0</td>\n",
       "    </tr>\n",
       "    <tr>\n",
       "      <th>83</th>\n",
       "      <td>Vilnius</td>\n",
       "      <td>POINT (25.31664 54.68337)</td>\n",
       "      <td>96.0</td>\n",
       "      <td>LTU</td>\n",
       "      <td>Lithuania</td>\n",
       "      <td>Europe</td>\n",
       "      <td>2823859.0</td>\n",
       "      <td>85620.0</td>\n",
       "    </tr>\n",
       "    <tr>\n",
       "      <th>84</th>\n",
       "      <td>Riga</td>\n",
       "      <td>POINT (24.09997 56.95002)</td>\n",
       "      <td>98.0</td>\n",
       "      <td>LVA</td>\n",
       "      <td>Latvia</td>\n",
       "      <td>Europe</td>\n",
       "      <td>1944643.0</td>\n",
       "      <td>50650.0</td>\n",
       "    </tr>\n",
       "    <tr>\n",
       "      <th>95</th>\n",
       "      <td>Zagreb</td>\n",
       "      <td>POINT (15.99999 45.80001)</td>\n",
       "      <td>69.0</td>\n",
       "      <td>HRV</td>\n",
       "      <td>Croatia</td>\n",
       "      <td>Europe</td>\n",
       "      <td>4292095.0</td>\n",
       "      <td>94240.0</td>\n",
       "    </tr>\n",
       "    <tr>\n",
       "      <th>96</th>\n",
       "      <td>Tallinn</td>\n",
       "      <td>POINT (24.72804 59.43388)</td>\n",
       "      <td>50.0</td>\n",
       "      <td>EST</td>\n",
       "      <td>Estonia</td>\n",
       "      <td>Europe</td>\n",
       "      <td>1251581.0</td>\n",
       "      <td>38700.0</td>\n",
       "    </tr>\n",
       "    <tr>\n",
       "      <th>112</th>\n",
       "      <td>Belgrade</td>\n",
       "      <td>POINT (20.46604 44.82059)</td>\n",
       "      <td>147.0</td>\n",
       "      <td>SRB</td>\n",
       "      <td>Serbia</td>\n",
       "      <td>Europe</td>\n",
       "      <td>7111024.0</td>\n",
       "      <td>101800.0</td>\n",
       "    </tr>\n",
       "    <tr>\n",
       "      <th>118</th>\n",
       "      <td>Tirana</td>\n",
       "      <td>POINT (19.81888 41.32754)</td>\n",
       "      <td>2.0</td>\n",
       "      <td>ALB</td>\n",
       "      <td>Albania</td>\n",
       "      <td>Europe</td>\n",
       "      <td>3047987.0</td>\n",
       "      <td>33900.0</td>\n",
       "    </tr>\n",
       "    <tr>\n",
       "      <th>124</th>\n",
       "      <td>Sofia</td>\n",
       "      <td>POINT (23.31471 42.68530)</td>\n",
       "      <td>16.0</td>\n",
       "      <td>BGR</td>\n",
       "      <td>Bulgaria</td>\n",
       "      <td>Europe</td>\n",
       "      <td>7101510.0</td>\n",
       "      <td>143100.0</td>\n",
       "    </tr>\n",
       "    <tr>\n",
       "      <th>125</th>\n",
       "      <td>Minsk</td>\n",
       "      <td>POINT (27.56468 53.90192)</td>\n",
       "      <td>19.0</td>\n",
       "      <td>BLR</td>\n",
       "      <td>Belarus</td>\n",
       "      <td>Europe</td>\n",
       "      <td>9549747.0</td>\n",
       "      <td>165400.0</td>\n",
       "    </tr>\n",
       "    <tr>\n",
       "      <th>130</th>\n",
       "      <td>Sarajevo</td>\n",
       "      <td>POINT (18.38300 43.85002)</td>\n",
       "      <td>18.0</td>\n",
       "      <td>BIH</td>\n",
       "      <td>Bosnia and Herz.</td>\n",
       "      <td>Europe</td>\n",
       "      <td>3856181.0</td>\n",
       "      <td>42530.0</td>\n",
       "    </tr>\n",
       "    <tr>\n",
       "      <th>146</th>\n",
       "      <td>Budapest</td>\n",
       "      <td>POINT (19.08137 47.50195)</td>\n",
       "      <td>71.0</td>\n",
       "      <td>HUN</td>\n",
       "      <td>Hungary</td>\n",
       "      <td>Europe</td>\n",
       "      <td>9850845.0</td>\n",
       "      <td>267600.0</td>\n",
       "    </tr>\n",
       "    <tr>\n",
       "      <th>148</th>\n",
       "      <td>Bucharest</td>\n",
       "      <td>POINT (26.09800 44.43532)</td>\n",
       "      <td>134.0</td>\n",
       "      <td>ROU</td>\n",
       "      <td>Romania</td>\n",
       "      <td>Europe</td>\n",
       "      <td>21529967.0</td>\n",
       "      <td>441000.0</td>\n",
       "    </tr>\n",
       "    <tr>\n",
       "      <th>150</th>\n",
       "      <td>Lisbon</td>\n",
       "      <td>POINT (-9.14681 38.72467)</td>\n",
       "      <td>130.0</td>\n",
       "      <td>PRT</td>\n",
       "      <td>Portugal</td>\n",
       "      <td>Europe</td>\n",
       "      <td>10839514.0</td>\n",
       "      <td>297100.0</td>\n",
       "    </tr>\n",
       "    <tr>\n",
       "      <th>152</th>\n",
       "      <td>Oslo</td>\n",
       "      <td>POINT (10.74803 59.91864)</td>\n",
       "      <td>118.0</td>\n",
       "      <td>NOR</td>\n",
       "      <td>Norway</td>\n",
       "      <td>Europe</td>\n",
       "      <td>5320045.0</td>\n",
       "      <td>364700.0</td>\n",
       "    </tr>\n",
       "    <tr>\n",
       "      <th>153</th>\n",
       "      <td>Warsaw</td>\n",
       "      <td>POINT (20.99805 52.25195)</td>\n",
       "      <td>127.0</td>\n",
       "      <td>POL</td>\n",
       "      <td>Poland</td>\n",
       "      <td>Europe</td>\n",
       "      <td>38476269.0</td>\n",
       "      <td>1052000.0</td>\n",
       "    </tr>\n",
       "    <tr>\n",
       "      <th>156</th>\n",
       "      <td>Dublin</td>\n",
       "      <td>POINT (-6.25085 53.33501)</td>\n",
       "      <td>74.0</td>\n",
       "      <td>IRL</td>\n",
       "      <td>Ireland</td>\n",
       "      <td>Europe</td>\n",
       "      <td>5011102.0</td>\n",
       "      <td>322000.0</td>\n",
       "    </tr>\n",
       "    <tr>\n",
       "      <th>160</th>\n",
       "      <td>Prague</td>\n",
       "      <td>POINT (14.46403 50.08528)</td>\n",
       "      <td>40.0</td>\n",
       "      <td>CZE</td>\n",
       "      <td>Czechia</td>\n",
       "      <td>Europe</td>\n",
       "      <td>10674723.0</td>\n",
       "      <td>350900.0</td>\n",
       "    </tr>\n",
       "    <tr>\n",
       "      <th>166</th>\n",
       "      <td>Helsinki</td>\n",
       "      <td>POINT (24.93218 60.17751)</td>\n",
       "      <td>52.0</td>\n",
       "      <td>FIN</td>\n",
       "      <td>Finland</td>\n",
       "      <td>Europe</td>\n",
       "      <td>5491218.0</td>\n",
       "      <td>224137.0</td>\n",
       "    </tr>\n",
       "    <tr>\n",
       "      <th>167</th>\n",
       "      <td>København</td>\n",
       "      <td>POINT (12.56154 55.68051)</td>\n",
       "      <td>43.0</td>\n",
       "      <td>DNK</td>\n",
       "      <td>Denmark</td>\n",
       "      <td>Europe</td>\n",
       "      <td>5605948.0</td>\n",
       "      <td>264800.0</td>\n",
       "    </tr>\n",
       "    <tr>\n",
       "      <th>170</th>\n",
       "      <td>Brussels</td>\n",
       "      <td>POINT (4.33137 50.83526)</td>\n",
       "      <td>12.0</td>\n",
       "      <td>BEL</td>\n",
       "      <td>Belgium</td>\n",
       "      <td>Europe</td>\n",
       "      <td>11491346.0</td>\n",
       "      <td>508600.0</td>\n",
       "    </tr>\n",
       "    <tr>\n",
       "      <th>182</th>\n",
       "      <td>Kiev</td>\n",
       "      <td>POINT (30.51468 50.43531)</td>\n",
       "      <td>166.0</td>\n",
       "      <td>UKR</td>\n",
       "      <td>Ukraine</td>\n",
       "      <td>Europe</td>\n",
       "      <td>44033874.0</td>\n",
       "      <td>352600.0</td>\n",
       "    </tr>\n",
       "    <tr>\n",
       "      <th>185</th>\n",
       "      <td>Madrid</td>\n",
       "      <td>POINT (-3.68530 40.40197)</td>\n",
       "      <td>49.0</td>\n",
       "      <td>ESP</td>\n",
       "      <td>Spain</td>\n",
       "      <td>Europe</td>\n",
       "      <td>48958159.0</td>\n",
       "      <td>1690000.0</td>\n",
       "    </tr>\n",
       "    <tr>\n",
       "      <th>186</th>\n",
       "      <td>Geneva</td>\n",
       "      <td>POINT (6.14003 46.21001)</td>\n",
       "      <td>55.0</td>\n",
       "      <td>FRA</td>\n",
       "      <td>France</td>\n",
       "      <td>Europe</td>\n",
       "      <td>67106161.0</td>\n",
       "      <td>2699000.0</td>\n",
       "    </tr>\n",
       "    <tr>\n",
       "      <th>187</th>\n",
       "      <td>Stockholm</td>\n",
       "      <td>POINT (18.09539 59.35271)</td>\n",
       "      <td>151.0</td>\n",
       "      <td>SWE</td>\n",
       "      <td>Sweden</td>\n",
       "      <td>Europe</td>\n",
       "      <td>9960487.0</td>\n",
       "      <td>498100.0</td>\n",
       "    </tr>\n",
       "    <tr>\n",
       "      <th>192</th>\n",
       "      <td>Amsterdam</td>\n",
       "      <td>POINT (4.91469 52.35191)</td>\n",
       "      <td>117.0</td>\n",
       "      <td>NLD</td>\n",
       "      <td>Netherlands</td>\n",
       "      <td>Europe</td>\n",
       "      <td>17084719.0</td>\n",
       "      <td>870800.0</td>\n",
       "    </tr>\n",
       "    <tr>\n",
       "      <th>197</th>\n",
       "      <td>Berlin</td>\n",
       "      <td>POINT (13.39960 52.52376)</td>\n",
       "      <td>41.0</td>\n",
       "      <td>DEU</td>\n",
       "      <td>Germany</td>\n",
       "      <td>Europe</td>\n",
       "      <td>80594017.0</td>\n",
       "      <td>3979000.0</td>\n",
       "    </tr>\n",
       "    <tr>\n",
       "      <th>204</th>\n",
       "      <td>Athens</td>\n",
       "      <td>POINT (23.73138 37.98527)</td>\n",
       "      <td>64.0</td>\n",
       "      <td>GRC</td>\n",
       "      <td>Greece</td>\n",
       "      <td>Europe</td>\n",
       "      <td>10768477.0</td>\n",
       "      <td>290500.0</td>\n",
       "    </tr>\n",
       "    <tr>\n",
       "      <th>212</th>\n",
       "      <td>Vienna</td>\n",
       "      <td>POINT (16.36469 48.20196)</td>\n",
       "      <td>9.0</td>\n",
       "      <td>AUT</td>\n",
       "      <td>Austria</td>\n",
       "      <td>Europe</td>\n",
       "      <td>8754413.0</td>\n",
       "      <td>416600.0</td>\n",
       "    </tr>\n",
       "    <tr>\n",
       "      <th>219</th>\n",
       "      <td>London</td>\n",
       "      <td>POINT (-0.11867 51.50194)</td>\n",
       "      <td>57.0</td>\n",
       "      <td>GBR</td>\n",
       "      <td>United Kingdom</td>\n",
       "      <td>Europe</td>\n",
       "      <td>64769452.0</td>\n",
       "      <td>2788000.0</td>\n",
       "    </tr>\n",
       "    <tr>\n",
       "      <th>223</th>\n",
       "      <td>Moscow</td>\n",
       "      <td>POINT (37.61358 55.75411)</td>\n",
       "      <td>135.0</td>\n",
       "      <td>RUS</td>\n",
       "      <td>Russia</td>\n",
       "      <td>Europe</td>\n",
       "      <td>142257519.0</td>\n",
       "      <td>3745000.0</td>\n",
       "    </tr>\n",
       "    <tr>\n",
       "      <th>226</th>\n",
       "      <td>Rome</td>\n",
       "      <td>POINT (12.48131 41.89790)</td>\n",
       "      <td>79.0</td>\n",
       "      <td>ITA</td>\n",
       "      <td>Italy</td>\n",
       "      <td>Europe</td>\n",
       "      <td>62137802.0</td>\n",
       "      <td>2221000.0</td>\n",
       "    </tr>\n",
       "    <tr>\n",
       "      <th>235</th>\n",
       "      <td>Paris</td>\n",
       "      <td>POINT (2.33139 48.86864)</td>\n",
       "      <td>55.0</td>\n",
       "      <td>FRA</td>\n",
       "      <td>France</td>\n",
       "      <td>Europe</td>\n",
       "      <td>67106161.0</td>\n",
       "      <td>2699000.0</td>\n",
       "    </tr>\n",
       "  </tbody>\n",
       "</table>\n",
       "</div>"
      ],
      "text/plain": [
       "        name_left                    geometry  index_right iso_a3  \\\n",
       "0    Vatican City   POINT (12.45339 41.90328)         79.0    ITA   \n",
       "1      San Marino   POINT (12.44177 43.93610)         79.0    ITA   \n",
       "2           Vaduz    POINT (9.51667 47.13372)          9.0    AUT   \n",
       "4      Luxembourg    POINT (6.13000 49.61166)         97.0    LUX   \n",
       "10         Monaco    POINT (7.40691 43.73965)         55.0    FRA   \n",
       "13        Andorra    POINT (1.51649 42.50000)         55.0    FRA   \n",
       "18      The Hague    POINT (4.26996 52.08004)        117.0    NLD   \n",
       "19      Ljubljana   POINT (14.51497 46.05529)        150.0    SVN   \n",
       "20     Bratislava   POINT (17.11698 48.15002)        149.0    SVK   \n",
       "22      Podgorica   POINT (19.26631 42.46597)        106.0    MNE   \n",
       "26           Bern    POINT (7.46698 46.91668)         28.0    CHE   \n",
       "28       Pristina   POINT (21.16598 42.66671)         88.0    KOS   \n",
       "34         Skopje   POINT (21.43346 42.00001)        103.0    MKD   \n",
       "56      Reykjavík  POINT (-21.95001 64.15002)         77.0    ISL   \n",
       "73       Chi?in?u   POINT (28.85771 47.00502)        100.0    MDA   \n",
       "83        Vilnius   POINT (25.31664 54.68337)         96.0    LTU   \n",
       "84           Riga   POINT (24.09997 56.95002)         98.0    LVA   \n",
       "95         Zagreb   POINT (15.99999 45.80001)         69.0    HRV   \n",
       "96        Tallinn   POINT (24.72804 59.43388)         50.0    EST   \n",
       "112      Belgrade   POINT (20.46604 44.82059)        147.0    SRB   \n",
       "118        Tirana   POINT (19.81888 41.32754)          2.0    ALB   \n",
       "124         Sofia   POINT (23.31471 42.68530)         16.0    BGR   \n",
       "125         Minsk   POINT (27.56468 53.90192)         19.0    BLR   \n",
       "130      Sarajevo   POINT (18.38300 43.85002)         18.0    BIH   \n",
       "146      Budapest   POINT (19.08137 47.50195)         71.0    HUN   \n",
       "148     Bucharest   POINT (26.09800 44.43532)        134.0    ROU   \n",
       "150        Lisbon   POINT (-9.14681 38.72467)        130.0    PRT   \n",
       "152          Oslo   POINT (10.74803 59.91864)        118.0    NOR   \n",
       "153        Warsaw   POINT (20.99805 52.25195)        127.0    POL   \n",
       "156        Dublin   POINT (-6.25085 53.33501)         74.0    IRL   \n",
       "160        Prague   POINT (14.46403 50.08528)         40.0    CZE   \n",
       "166      Helsinki   POINT (24.93218 60.17751)         52.0    FIN   \n",
       "167     København   POINT (12.56154 55.68051)         43.0    DNK   \n",
       "170      Brussels    POINT (4.33137 50.83526)         12.0    BEL   \n",
       "182          Kiev   POINT (30.51468 50.43531)        166.0    UKR   \n",
       "185        Madrid   POINT (-3.68530 40.40197)         49.0    ESP   \n",
       "186        Geneva    POINT (6.14003 46.21001)         55.0    FRA   \n",
       "187     Stockholm   POINT (18.09539 59.35271)        151.0    SWE   \n",
       "192     Amsterdam    POINT (4.91469 52.35191)        117.0    NLD   \n",
       "197        Berlin   POINT (13.39960 52.52376)         41.0    DEU   \n",
       "204        Athens   POINT (23.73138 37.98527)         64.0    GRC   \n",
       "212        Vienna   POINT (16.36469 48.20196)          9.0    AUT   \n",
       "219        London   POINT (-0.11867 51.50194)         57.0    GBR   \n",
       "223        Moscow   POINT (37.61358 55.75411)        135.0    RUS   \n",
       "226          Rome   POINT (12.48131 41.89790)         79.0    ITA   \n",
       "235         Paris    POINT (2.33139 48.86864)         55.0    FRA   \n",
       "\n",
       "           name_right continent      pop_est  gdp_md_est  \n",
       "0               Italy    Europe   62137802.0   2221000.0  \n",
       "1               Italy    Europe   62137802.0   2221000.0  \n",
       "2             Austria    Europe    8754413.0    416600.0  \n",
       "4          Luxembourg    Europe     594130.0     58740.0  \n",
       "10             France    Europe   67106161.0   2699000.0  \n",
       "13             France    Europe   67106161.0   2699000.0  \n",
       "18        Netherlands    Europe   17084719.0    870800.0  \n",
       "19           Slovenia    Europe    1972126.0     68350.0  \n",
       "20           Slovakia    Europe    5445829.0    168800.0  \n",
       "22         Montenegro    Europe     642550.0     10610.0  \n",
       "26        Switzerland    Europe    8236303.0    496300.0  \n",
       "28             Kosovo    Europe    1895250.0     18490.0  \n",
       "34          Macedonia    Europe    2103721.0     29520.0  \n",
       "56            Iceland    Europe     339747.0     16150.0  \n",
       "73            Moldova    Europe    3474121.0     18540.0  \n",
       "83          Lithuania    Europe    2823859.0     85620.0  \n",
       "84             Latvia    Europe    1944643.0     50650.0  \n",
       "95            Croatia    Europe    4292095.0     94240.0  \n",
       "96            Estonia    Europe    1251581.0     38700.0  \n",
       "112            Serbia    Europe    7111024.0    101800.0  \n",
       "118           Albania    Europe    3047987.0     33900.0  \n",
       "124          Bulgaria    Europe    7101510.0    143100.0  \n",
       "125           Belarus    Europe    9549747.0    165400.0  \n",
       "130  Bosnia and Herz.    Europe    3856181.0     42530.0  \n",
       "146           Hungary    Europe    9850845.0    267600.0  \n",
       "148           Romania    Europe   21529967.0    441000.0  \n",
       "150          Portugal    Europe   10839514.0    297100.0  \n",
       "152            Norway    Europe    5320045.0    364700.0  \n",
       "153            Poland    Europe   38476269.0   1052000.0  \n",
       "156           Ireland    Europe    5011102.0    322000.0  \n",
       "160           Czechia    Europe   10674723.0    350900.0  \n",
       "166           Finland    Europe    5491218.0    224137.0  \n",
       "167           Denmark    Europe    5605948.0    264800.0  \n",
       "170           Belgium    Europe   11491346.0    508600.0  \n",
       "182           Ukraine    Europe   44033874.0    352600.0  \n",
       "185             Spain    Europe   48958159.0   1690000.0  \n",
       "186            France    Europe   67106161.0   2699000.0  \n",
       "187            Sweden    Europe    9960487.0    498100.0  \n",
       "192       Netherlands    Europe   17084719.0    870800.0  \n",
       "197           Germany    Europe   80594017.0   3979000.0  \n",
       "204            Greece    Europe   10768477.0    290500.0  \n",
       "212           Austria    Europe    8754413.0    416600.0  \n",
       "219    United Kingdom    Europe   64769452.0   2788000.0  \n",
       "223            Russia    Europe  142257519.0   3745000.0  \n",
       "226             Italy    Europe   62137802.0   2221000.0  \n",
       "235            France    Europe   67106161.0   2699000.0  "
      ]
     },
     "execution_count": 63,
     "metadata": {},
     "output_type": "execute_result"
    }
   ],
   "source": [
    "jointure[jointure['continent'] == 'Europe']"
   ]
  },
  {
   "cell_type": "code",
   "execution_count": 64,
   "metadata": {},
   "outputs": [],
   "source": [
    "# A Retenir : on sait fabriquer un nouveau jeu de données sur les villes grâce à une jointure spatiale"
   ]
  },
  {
   "cell_type": "markdown",
   "metadata": {},
   "source": [
    "# Exercice avec les données sur Paris "
   ]
  },
  {
   "cell_type": "code",
   "execution_count": 65,
   "metadata": {},
   "outputs": [],
   "source": [
    "# on refait la même chose (en gros ) mais avec les données sur Paris et un peu plus de précisions"
   ]
  },
  {
   "cell_type": "code",
   "execution_count": 69,
   "metadata": {},
   "outputs": [],
   "source": [
    "L = list()"
   ]
  },
  {
   "cell_type": "code",
   "execution_count": 70,
   "metadata": {},
   "outputs": [
    {
     "data": {
      "text/plain": [
       "list"
      ]
     },
     "execution_count": 70,
     "metadata": {},
     "output_type": "execute_result"
    }
   ],
   "source": [
    "type(L)"
   ]
  },
  {
   "cell_type": "code",
   "execution_count": 73,
   "metadata": {},
   "outputs": [],
   "source": [
    "#quartiers = geopandas.geodataframe.GeoDataFrame()"
   ]
  },
  {
   "cell_type": "code",
   "execution_count": 78,
   "metadata": {},
   "outputs": [],
   "source": [
    "quartiers = geopandas.read_file(\"data/paris_districts.geojson\").to_crs(epsg=2154)"
   ]
  },
  {
   "cell_type": "code",
   "execution_count": 83,
   "metadata": {},
   "outputs": [],
   "source": [
    "#quartiers.crs"
   ]
  },
  {
   "cell_type": "code",
   "execution_count": 80,
   "metadata": {},
   "outputs": [],
   "source": [
    "stationsVelo = geopandas.geodataframe.GeoDataFrame()\n",
    "stationsVelo = geopandas.read_file(\"data/paris_bike_stations.geojson\").to_crs(epsg=2154)"
   ]
  },
  {
   "cell_type": "code",
   "execution_count": 82,
   "metadata": {},
   "outputs": [],
   "source": [
    "#stationsVelo.crs"
   ]
  },
  {
   "cell_type": "code",
   "execution_count": 87,
   "metadata": {},
   "outputs": [
    {
     "data": {
      "text/plain": [
       "Index(['id', 'district_name', 'population', 'geometry'], dtype='object')"
      ]
     },
     "execution_count": 87,
     "metadata": {},
     "output_type": "execute_result"
    }
   ],
   "source": [
    "# je me renseigne sur le nom des colonnes du dataframe quartier\n",
    "quartiers.columns"
   ]
  },
  {
   "cell_type": "code",
   "execution_count": 90,
   "metadata": {},
   "outputs": [
    {
     "data": {
      "text/plain": [
       "Index(['name', 'bike_stands', 'available_bikes', 'geometry'], dtype='object')"
      ]
     },
     "execution_count": 90,
     "metadata": {},
     "output_type": "execute_result"
    }
   ],
   "source": [
    "stationsVelo.columns"
   ]
  },
  {
   "cell_type": "markdown",
   "metadata": {},
   "source": [
    "###  QUESTION 1\n",
    " Déterminons pour chaque station de vélo, dans quel quartier elle se trouve"
   ]
  },
  {
   "cell_type": "code",
   "execution_count": 88,
   "metadata": {},
   "outputs": [],
   "source": [
    "jointure = geopandas.sjoin(stationsVelo, quartiers[['district_name', 'geometry']], op='within')"
   ]
  },
  {
   "cell_type": "code",
   "execution_count": 89,
   "metadata": {},
   "outputs": [
    {
     "data": {
      "text/plain": [
       "Index(['name', 'bike_stands', 'available_bikes', 'geometry', 'index_right',\n",
       "       'district_name'],\n",
       "      dtype='object')"
      ]
     },
     "execution_count": 89,
     "metadata": {},
     "output_type": "execute_result"
    }
   ],
   "source": [
    "jointure.columns"
   ]
  },
  {
   "cell_type": "code",
   "execution_count": 93,
   "metadata": {},
   "outputs": [
    {
     "data": {
      "text/html": [
       "<div>\n",
       "<style scoped>\n",
       "    .dataframe tbody tr th:only-of-type {\n",
       "        vertical-align: middle;\n",
       "    }\n",
       "\n",
       "    .dataframe tbody tr th {\n",
       "        vertical-align: top;\n",
       "    }\n",
       "\n",
       "    .dataframe thead th {\n",
       "        text-align: right;\n",
       "    }\n",
       "</style>\n",
       "<table border=\"1\" class=\"dataframe\">\n",
       "  <thead>\n",
       "    <tr style=\"text-align: right;\">\n",
       "      <th></th>\n",
       "      <th>name</th>\n",
       "      <th>bike_stands</th>\n",
       "      <th>available_bikes</th>\n",
       "      <th>geometry</th>\n",
       "      <th>index_right</th>\n",
       "      <th>district_name</th>\n",
       "    </tr>\n",
       "  </thead>\n",
       "  <tbody>\n",
       "    <tr>\n",
       "      <th>0</th>\n",
       "      <td>14002 - RASPAIL QUINET</td>\n",
       "      <td>44</td>\n",
       "      <td>4</td>\n",
       "      <td>POINT (650791.111 6860114.328)</td>\n",
       "      <td>52</td>\n",
       "      <td>Montparnasse</td>\n",
       "    </tr>\n",
       "    <tr>\n",
       "      <th>143</th>\n",
       "      <td>14112 - FAUBOURG SAINT JACQUES CASSINI</td>\n",
       "      <td>16</td>\n",
       "      <td>0</td>\n",
       "      <td>POINT (651406.382 6859738.689)</td>\n",
       "      <td>52</td>\n",
       "      <td>Montparnasse</td>\n",
       "    </tr>\n",
       "    <tr>\n",
       "      <th>293</th>\n",
       "      <td>14033 - DAGUERRE GASSENDI</td>\n",
       "      <td>38</td>\n",
       "      <td>1</td>\n",
       "      <td>POINT (650694.991 6859723.873)</td>\n",
       "      <td>52</td>\n",
       "      <td>Montparnasse</td>\n",
       "    </tr>\n",
       "    <tr>\n",
       "      <th>346</th>\n",
       "      <td>14006 - SAINT JACQUES TOMBE ISSOIRE</td>\n",
       "      <td>22</td>\n",
       "      <td>0</td>\n",
       "      <td>POINT (651327.035 6859441.637)</td>\n",
       "      <td>52</td>\n",
       "      <td>Montparnasse</td>\n",
       "    </tr>\n",
       "    <tr>\n",
       "      <th>429</th>\n",
       "      <td>14111 - DENFERT-ROCHEREAU CASSINI</td>\n",
       "      <td>24</td>\n",
       "      <td>8</td>\n",
       "      <td>POINT (651261.351 6859926.893)</td>\n",
       "      <td>52</td>\n",
       "      <td>Montparnasse</td>\n",
       "    </tr>\n",
       "  </tbody>\n",
       "</table>\n",
       "</div>"
      ],
      "text/plain": [
       "                                       name  bike_stands  available_bikes  \\\n",
       "0                    14002 - RASPAIL QUINET           44                4   \n",
       "143  14112 - FAUBOURG SAINT JACQUES CASSINI           16                0   \n",
       "293               14033 - DAGUERRE GASSENDI           38                1   \n",
       "346     14006 - SAINT JACQUES TOMBE ISSOIRE           22                0   \n",
       "429       14111 - DENFERT-ROCHEREAU CASSINI           24                8   \n",
       "\n",
       "                           geometry  index_right district_name  \n",
       "0    POINT (650791.111 6860114.328)           52  Montparnasse  \n",
       "143  POINT (651406.382 6859738.689)           52  Montparnasse  \n",
       "293  POINT (650694.991 6859723.873)           52  Montparnasse  \n",
       "346  POINT (651327.035 6859441.637)           52  Montparnasse  \n",
       "429  POINT (651261.351 6859926.893)           52  Montparnasse  "
      ]
     },
     "execution_count": 93,
     "metadata": {},
     "output_type": "execute_result"
    }
   ],
   "source": [
    "# on vérifie qu'on a augmenté les données sur le dataframe concernant les stations de velo\n",
    "# remarquer que la géométrie du quartier n'est pas ajouté mais elle était nécessaire pour l'opération de jointure joins\n",
    "jointure.head()"
   ]
  },
  {
   "cell_type": "markdown",
   "metadata": {},
   "source": [
    "###  QUESTION 2"
   ]
  },
  {
   "cell_type": "markdown",
   "metadata": {},
   "source": [
    "### on va ajouter des données ponctuelles pour faire une faire une carte de type choropleth (densité/couleur)"
   ]
  },
  {
   "cell_type": "code",
   "execution_count": 95,
   "metadata": {},
   "outputs": [],
   "source": [
    "lesArbres = geopandas.read_file(\"data/paris_trees.gpkg\")"
   ]
  },
  {
   "cell_type": "code",
   "execution_count": 96,
   "metadata": {},
   "outputs": [
    {
     "data": {
      "text/plain": [
       "<Projected CRS: EPSG:32631>\n",
       "Name: WGS 84 / UTM zone 31N\n",
       "Axis Info [cartesian]:\n",
       "- E[east]: Easting (metre)\n",
       "- N[north]: Northing (metre)\n",
       "Area of Use:\n",
       "- name: World - N hemisphere - 0°E to 6°E - by country\n",
       "- bounds: (0.0, 0.0, 6.0, 84.0)\n",
       "Coordinate Operation:\n",
       "- name: UTM zone 31N\n",
       "- method: Transverse Mercator\n",
       "Datum: World Geodetic System 1984\n",
       "- Ellipsoid: WGS 84\n",
       "- Prime Meridian: Greenwich"
      ]
     },
     "execution_count": 96,
     "metadata": {},
     "output_type": "execute_result"
    }
   ],
   "source": [
    "lesArbres.crs"
   ]
  },
  {
   "cell_type": "code",
   "execution_count": 99,
   "metadata": {},
   "outputs": [],
   "source": [
    "quartiers = geopandas.read_file(\"data/paris_districts.geojson\").to_crs(lesArbres.crs)"
   ]
  },
  {
   "cell_type": "code",
   "execution_count": 100,
   "metadata": {},
   "outputs": [
    {
     "data": {
      "text/plain": [
       "<Projected CRS: EPSG:32631>\n",
       "Name: WGS 84 / UTM zone 31N\n",
       "Axis Info [cartesian]:\n",
       "- E[east]: Easting (metre)\n",
       "- N[north]: Northing (metre)\n",
       "Area of Use:\n",
       "- name: World - N hemisphere - 0°E to 6°E - by country\n",
       "- bounds: (0.0, 0.0, 6.0, 84.0)\n",
       "Coordinate Operation:\n",
       "- name: UTM zone 31N\n",
       "- method: Transverse Mercator\n",
       "Datum: World Geodetic System 1984\n",
       "- Ellipsoid: WGS 84\n",
       "- Prime Meridian: Greenwich"
      ]
     },
     "execution_count": 100,
     "metadata": {},
     "output_type": "execute_result"
    }
   ],
   "source": [
    "quartiers.crs"
   ]
  },
  {
   "cell_type": "markdown",
   "metadata": {},
   "source": [
    "###  QUESTION 3\n",
    "\n",
    "On a besoin de procéder à une jointure, entre des localisations (les arbres) et des zones (les quartiers). \n",
    "\n",
    "On veut aussi connaître combien il y a d'arbres par quartiers"
   ]
  },
  {
   "cell_type": "code",
   "execution_count": 102,
   "metadata": {},
   "outputs": [
    {
     "data": {
      "text/plain": [
       "Index(['species', 'location_type', 'geometry'], dtype='object')"
      ]
     },
     "execution_count": 102,
     "metadata": {},
     "output_type": "execute_result"
    }
   ],
   "source": [
    "# examinons le fichier de données sur les arbres\n",
    "lesArbres.columns"
   ]
  },
  {
   "cell_type": "code",
   "execution_count": 128,
   "metadata": {},
   "outputs": [
    {
     "data": {
      "text/plain": [
       "(7856, 3)"
      ]
     },
     "execution_count": 128,
     "metadata": {},
     "output_type": "execute_result"
    }
   ],
   "source": [
    "lesArbres.shape"
   ]
  },
  {
   "cell_type": "code",
   "execution_count": 103,
   "metadata": {},
   "outputs": [
    {
     "data": {
      "text/html": [
       "<div>\n",
       "<style scoped>\n",
       "    .dataframe tbody tr th:only-of-type {\n",
       "        vertical-align: middle;\n",
       "    }\n",
       "\n",
       "    .dataframe tbody tr th {\n",
       "        vertical-align: top;\n",
       "    }\n",
       "\n",
       "    .dataframe thead th {\n",
       "        text-align: right;\n",
       "    }\n",
       "</style>\n",
       "<table border=\"1\" class=\"dataframe\">\n",
       "  <thead>\n",
       "    <tr style=\"text-align: right;\">\n",
       "      <th></th>\n",
       "      <th>species</th>\n",
       "      <th>location_type</th>\n",
       "      <th>geometry</th>\n",
       "    </tr>\n",
       "  </thead>\n",
       "  <tbody>\n",
       "    <tr>\n",
       "      <th>0</th>\n",
       "      <td>Marronnier</td>\n",
       "      <td>Alignement</td>\n",
       "      <td>POINT (455834.122 5410780.606)</td>\n",
       "    </tr>\n",
       "    <tr>\n",
       "      <th>1</th>\n",
       "      <td>Marronnier</td>\n",
       "      <td>Alignement</td>\n",
       "      <td>POINT (446546.284 5412574.697)</td>\n",
       "    </tr>\n",
       "    <tr>\n",
       "      <th>2</th>\n",
       "      <td>Marronnier</td>\n",
       "      <td>Alignement</td>\n",
       "      <td>POINT (449768.283 5409876.557)</td>\n",
       "    </tr>\n",
       "    <tr>\n",
       "      <th>3</th>\n",
       "      <td>Marronnier</td>\n",
       "      <td>Alignement</td>\n",
       "      <td>POINT (451779.708 5409292.071)</td>\n",
       "    </tr>\n",
       "    <tr>\n",
       "      <th>4</th>\n",
       "      <td>Sophora</td>\n",
       "      <td>Alignement</td>\n",
       "      <td>POINT (447041.361 5409756.712)</td>\n",
       "    </tr>\n",
       "  </tbody>\n",
       "</table>\n",
       "</div>"
      ],
      "text/plain": [
       "      species location_type                        geometry\n",
       "0  Marronnier    Alignement  POINT (455834.122 5410780.606)\n",
       "1  Marronnier    Alignement  POINT (446546.284 5412574.697)\n",
       "2  Marronnier    Alignement  POINT (449768.283 5409876.557)\n",
       "3  Marronnier    Alignement  POINT (451779.708 5409292.071)\n",
       "4     Sophora    Alignement  POINT (447041.361 5409756.712)"
      ]
     },
     "execution_count": 103,
     "metadata": {},
     "output_type": "execute_result"
    }
   ],
   "source": [
    "lesArbres.head()"
   ]
  },
  {
   "cell_type": "code",
   "execution_count": 134,
   "metadata": {},
   "outputs": [],
   "source": [
    "# A nouveau, la jointure va utiliser \"sjoin\" de geopandas pour des POINTs avec des POLYGONs\n",
    "jointure3 = geopandas.sjoin(lesArbres, quartiers, op='within')"
   ]
  },
  {
   "cell_type": "code",
   "execution_count": 136,
   "metadata": {},
   "outputs": [
    {
     "data": {
      "text/html": [
       "<div>\n",
       "<style scoped>\n",
       "    .dataframe tbody tr th:only-of-type {\n",
       "        vertical-align: middle;\n",
       "    }\n",
       "\n",
       "    .dataframe tbody tr th {\n",
       "        vertical-align: top;\n",
       "    }\n",
       "\n",
       "    .dataframe thead th {\n",
       "        text-align: right;\n",
       "    }\n",
       "</style>\n",
       "<table border=\"1\" class=\"dataframe\">\n",
       "  <thead>\n",
       "    <tr style=\"text-align: right;\">\n",
       "      <th></th>\n",
       "      <th>species</th>\n",
       "      <th>location_type</th>\n",
       "      <th>geometry</th>\n",
       "      <th>index_right</th>\n",
       "      <th>id</th>\n",
       "      <th>district_name</th>\n",
       "      <th>population</th>\n",
       "    </tr>\n",
       "  </thead>\n",
       "  <tbody>\n",
       "    <tr>\n",
       "      <th>0</th>\n",
       "      <td>Marronnier</td>\n",
       "      <td>Alignement</td>\n",
       "      <td>POINT (455834.122 5410780.606)</td>\n",
       "      <td>43</td>\n",
       "      <td>44</td>\n",
       "      <td>Sainte-Marguerite</td>\n",
       "      <td>36476</td>\n",
       "    </tr>\n",
       "    <tr>\n",
       "      <th>130</th>\n",
       "      <td>Micocoulier</td>\n",
       "      <td>Alignement</td>\n",
       "      <td>POINT (455458.848 5411310.443)</td>\n",
       "      <td>43</td>\n",
       "      <td>44</td>\n",
       "      <td>Sainte-Marguerite</td>\n",
       "      <td>36476</td>\n",
       "    </tr>\n",
       "    <tr>\n",
       "      <th>142</th>\n",
       "      <td>Platane</td>\n",
       "      <td>Alignement</td>\n",
       "      <td>POINT (455704.681 5410991.067)</td>\n",
       "      <td>43</td>\n",
       "      <td>44</td>\n",
       "      <td>Sainte-Marguerite</td>\n",
       "      <td>36476</td>\n",
       "    </tr>\n",
       "    <tr>\n",
       "      <th>402</th>\n",
       "      <td>Cedrele</td>\n",
       "      <td>Alignement</td>\n",
       "      <td>POINT (455538.223 5411112.314)</td>\n",
       "      <td>43</td>\n",
       "      <td>44</td>\n",
       "      <td>Sainte-Marguerite</td>\n",
       "      <td>36476</td>\n",
       "    </tr>\n",
       "    <tr>\n",
       "      <th>428</th>\n",
       "      <td>Micocoulier</td>\n",
       "      <td>Alignement</td>\n",
       "      <td>POINT (455487.563 5411285.863)</td>\n",
       "      <td>43</td>\n",
       "      <td>44</td>\n",
       "      <td>Sainte-Marguerite</td>\n",
       "      <td>36476</td>\n",
       "    </tr>\n",
       "    <tr>\n",
       "      <th>...</th>\n",
       "      <td>...</td>\n",
       "      <td>...</td>\n",
       "      <td>...</td>\n",
       "      <td>...</td>\n",
       "      <td>...</td>\n",
       "      <td>...</td>\n",
       "      <td>...</td>\n",
       "    </tr>\n",
       "    <tr>\n",
       "      <th>5515</th>\n",
       "      <td>Platane</td>\n",
       "      <td>Alignement</td>\n",
       "      <td>POINT (451129.048 5413304.688)</td>\n",
       "      <td>4</td>\n",
       "      <td>5</td>\n",
       "      <td>Gaillon</td>\n",
       "      <td>1345</td>\n",
       "    </tr>\n",
       "    <tr>\n",
       "      <th>7241</th>\n",
       "      <td>Pterocarya</td>\n",
       "      <td>Alignement</td>\n",
       "      <td>POINT (451267.252 5413339.433)</td>\n",
       "      <td>4</td>\n",
       "      <td>5</td>\n",
       "      <td>Gaillon</td>\n",
       "      <td>1345</td>\n",
       "    </tr>\n",
       "    <tr>\n",
       "      <th>3706</th>\n",
       "      <td>Pterocarya</td>\n",
       "      <td>Alignement</td>\n",
       "      <td>POINT (451509.905 5413400.369)</td>\n",
       "      <td>5</td>\n",
       "      <td>6</td>\n",
       "      <td>Vivienne</td>\n",
       "      <td>2917</td>\n",
       "    </tr>\n",
       "    <tr>\n",
       "      <th>6111</th>\n",
       "      <td>Erable</td>\n",
       "      <td>Alignement</td>\n",
       "      <td>POINT (451886.618 5412870.179)</td>\n",
       "      <td>6</td>\n",
       "      <td>7</td>\n",
       "      <td>Mail</td>\n",
       "      <td>5783</td>\n",
       "    </tr>\n",
       "    <tr>\n",
       "      <th>7102</th>\n",
       "      <td>Sorbier</td>\n",
       "      <td>Alignement</td>\n",
       "      <td>POINT (451894.731 5412893.194)</td>\n",
       "      <td>6</td>\n",
       "      <td>7</td>\n",
       "      <td>Mail</td>\n",
       "      <td>5783</td>\n",
       "    </tr>\n",
       "  </tbody>\n",
       "</table>\n",
       "<p>7799 rows × 7 columns</p>\n",
       "</div>"
      ],
      "text/plain": [
       "          species location_type                        geometry  index_right  \\\n",
       "0      Marronnier    Alignement  POINT (455834.122 5410780.606)           43   \n",
       "130   Micocoulier    Alignement  POINT (455458.848 5411310.443)           43   \n",
       "142       Platane    Alignement  POINT (455704.681 5410991.067)           43   \n",
       "402       Cedrele    Alignement  POINT (455538.223 5411112.314)           43   \n",
       "428   Micocoulier    Alignement  POINT (455487.563 5411285.863)           43   \n",
       "...           ...           ...                             ...          ...   \n",
       "5515      Platane    Alignement  POINT (451129.048 5413304.688)            4   \n",
       "7241   Pterocarya    Alignement  POINT (451267.252 5413339.433)            4   \n",
       "3706   Pterocarya    Alignement  POINT (451509.905 5413400.369)            5   \n",
       "6111       Erable    Alignement  POINT (451886.618 5412870.179)            6   \n",
       "7102      Sorbier    Alignement  POINT (451894.731 5412893.194)            6   \n",
       "\n",
       "      id      district_name  population  \n",
       "0     44  Sainte-Marguerite       36476  \n",
       "130   44  Sainte-Marguerite       36476  \n",
       "142   44  Sainte-Marguerite       36476  \n",
       "402   44  Sainte-Marguerite       36476  \n",
       "428   44  Sainte-Marguerite       36476  \n",
       "...   ..                ...         ...  \n",
       "5515   5            Gaillon        1345  \n",
       "7241   5            Gaillon        1345  \n",
       "3706   6           Vivienne        2917  \n",
       "6111   7               Mail        5783  \n",
       "7102   7               Mail        5783  \n",
       "\n",
       "[7799 rows x 7 columns]"
      ]
     },
     "execution_count": 136,
     "metadata": {},
     "output_type": "execute_result"
    }
   ],
   "source": [
    "jointure3"
   ]
  },
  {
   "cell_type": "code",
   "execution_count": 137,
   "metadata": {},
   "outputs": [],
   "source": [
    "# Calcul du nombre d'arbres dans chaque quartier à l'aide de l'instruction df.groupby('clé')\n",
    "lesArbres_par_quartier = jointure3.groupby('district_name')"
   ]
  },
  {
   "cell_type": "code",
   "execution_count": 139,
   "metadata": {},
   "outputs": [
    {
     "data": {
      "text/plain": [
       "<pandas.core.groupby.generic.DataFrameGroupBy object at 0x7fd6cc90de90>"
      ]
     },
     "execution_count": 139,
     "metadata": {},
     "output_type": "execute_result"
    }
   ],
   "source": [
    "lesArbres_par_quartier"
   ]
  },
  {
   "cell_type": "code",
   "execution_count": 140,
   "metadata": {},
   "outputs": [
    {
     "data": {
      "text/html": [
       "<div>\n",
       "<style scoped>\n",
       "    .dataframe tbody tr th:only-of-type {\n",
       "        vertical-align: middle;\n",
       "    }\n",
       "\n",
       "    .dataframe tbody tr th {\n",
       "        vertical-align: top;\n",
       "    }\n",
       "\n",
       "    .dataframe thead th {\n",
       "        text-align: right;\n",
       "    }\n",
       "</style>\n",
       "<table border=\"1\" class=\"dataframe\">\n",
       "  <thead>\n",
       "    <tr style=\"text-align: right;\">\n",
       "      <th></th>\n",
       "      <th>species</th>\n",
       "      <th>location_type</th>\n",
       "      <th>geometry</th>\n",
       "      <th>index_right</th>\n",
       "      <th>id</th>\n",
       "      <th>district_name</th>\n",
       "      <th>population</th>\n",
       "    </tr>\n",
       "  </thead>\n",
       "  <tbody>\n",
       "    <tr>\n",
       "      <th>0</th>\n",
       "      <td>Marronnier</td>\n",
       "      <td>Alignement</td>\n",
       "      <td>POINT (455834.122 5410780.606)</td>\n",
       "      <td>43</td>\n",
       "      <td>44</td>\n",
       "      <td>Sainte-Marguerite</td>\n",
       "      <td>36476</td>\n",
       "    </tr>\n",
       "    <tr>\n",
       "      <th>130</th>\n",
       "      <td>Micocoulier</td>\n",
       "      <td>Alignement</td>\n",
       "      <td>POINT (455458.848 5411310.443)</td>\n",
       "      <td>43</td>\n",
       "      <td>44</td>\n",
       "      <td>Sainte-Marguerite</td>\n",
       "      <td>36476</td>\n",
       "    </tr>\n",
       "    <tr>\n",
       "      <th>142</th>\n",
       "      <td>Platane</td>\n",
       "      <td>Alignement</td>\n",
       "      <td>POINT (455704.681 5410991.067)</td>\n",
       "      <td>43</td>\n",
       "      <td>44</td>\n",
       "      <td>Sainte-Marguerite</td>\n",
       "      <td>36476</td>\n",
       "    </tr>\n",
       "    <tr>\n",
       "      <th>402</th>\n",
       "      <td>Cedrele</td>\n",
       "      <td>Alignement</td>\n",
       "      <td>POINT (455538.223 5411112.314)</td>\n",
       "      <td>43</td>\n",
       "      <td>44</td>\n",
       "      <td>Sainte-Marguerite</td>\n",
       "      <td>36476</td>\n",
       "    </tr>\n",
       "    <tr>\n",
       "      <th>428</th>\n",
       "      <td>Micocoulier</td>\n",
       "      <td>Alignement</td>\n",
       "      <td>POINT (455487.563 5411285.863)</td>\n",
       "      <td>43</td>\n",
       "      <td>44</td>\n",
       "      <td>Sainte-Marguerite</td>\n",
       "      <td>36476</td>\n",
       "    </tr>\n",
       "    <tr>\n",
       "      <th>...</th>\n",
       "      <td>...</td>\n",
       "      <td>...</td>\n",
       "      <td>...</td>\n",
       "      <td>...</td>\n",
       "      <td>...</td>\n",
       "      <td>...</td>\n",
       "      <td>...</td>\n",
       "    </tr>\n",
       "    <tr>\n",
       "      <th>3897</th>\n",
       "      <td>Platane</td>\n",
       "      <td>Alignement</td>\n",
       "      <td>POINT (451102.185 5413298.002)</td>\n",
       "      <td>4</td>\n",
       "      <td>5</td>\n",
       "      <td>Gaillon</td>\n",
       "      <td>1345</td>\n",
       "    </tr>\n",
       "    <tr>\n",
       "      <th>4987</th>\n",
       "      <td>Micocoulier</td>\n",
       "      <td>Alignement</td>\n",
       "      <td>POINT (451333.568 5413356.194)</td>\n",
       "      <td>4</td>\n",
       "      <td>5</td>\n",
       "      <td>Gaillon</td>\n",
       "      <td>1345</td>\n",
       "    </tr>\n",
       "    <tr>\n",
       "      <th>3706</th>\n",
       "      <td>Pterocarya</td>\n",
       "      <td>Alignement</td>\n",
       "      <td>POINT (451509.905 5413400.369)</td>\n",
       "      <td>5</td>\n",
       "      <td>6</td>\n",
       "      <td>Vivienne</td>\n",
       "      <td>2917</td>\n",
       "    </tr>\n",
       "    <tr>\n",
       "      <th>6111</th>\n",
       "      <td>Erable</td>\n",
       "      <td>Alignement</td>\n",
       "      <td>POINT (451886.618 5412870.179)</td>\n",
       "      <td>6</td>\n",
       "      <td>7</td>\n",
       "      <td>Mail</td>\n",
       "      <td>5783</td>\n",
       "    </tr>\n",
       "    <tr>\n",
       "      <th>7102</th>\n",
       "      <td>Sorbier</td>\n",
       "      <td>Alignement</td>\n",
       "      <td>POINT (451894.731 5412893.194)</td>\n",
       "      <td>6</td>\n",
       "      <td>7</td>\n",
       "      <td>Mail</td>\n",
       "      <td>5783</td>\n",
       "    </tr>\n",
       "  </tbody>\n",
       "</table>\n",
       "<p>391 rows × 7 columns</p>\n",
       "</div>"
      ],
      "text/plain": [
       "          species location_type                        geometry  index_right  \\\n",
       "0      Marronnier    Alignement  POINT (455834.122 5410780.606)           43   \n",
       "130   Micocoulier    Alignement  POINT (455458.848 5411310.443)           43   \n",
       "142       Platane    Alignement  POINT (455704.681 5410991.067)           43   \n",
       "402       Cedrele    Alignement  POINT (455538.223 5411112.314)           43   \n",
       "428   Micocoulier    Alignement  POINT (455487.563 5411285.863)           43   \n",
       "...           ...           ...                             ...          ...   \n",
       "3897      Platane    Alignement  POINT (451102.185 5413298.002)            4   \n",
       "4987  Micocoulier    Alignement  POINT (451333.568 5413356.194)            4   \n",
       "3706   Pterocarya    Alignement  POINT (451509.905 5413400.369)            5   \n",
       "6111       Erable    Alignement  POINT (451886.618 5412870.179)            6   \n",
       "7102      Sorbier    Alignement  POINT (451894.731 5412893.194)            6   \n",
       "\n",
       "      id      district_name  population  \n",
       "0     44  Sainte-Marguerite       36476  \n",
       "130   44  Sainte-Marguerite       36476  \n",
       "142   44  Sainte-Marguerite       36476  \n",
       "402   44  Sainte-Marguerite       36476  \n",
       "428   44  Sainte-Marguerite       36476  \n",
       "...   ..                ...         ...  \n",
       "3897   5            Gaillon        1345  \n",
       "4987   5            Gaillon        1345  \n",
       "3706   6           Vivienne        2917  \n",
       "6111   7               Mail        5783  \n",
       "7102   7               Mail        5783  \n",
       "\n",
       "[391 rows x 7 columns]"
      ]
     },
     "execution_count": 140,
     "metadata": {},
     "output_type": "execute_result"
    }
   ],
   "source": [
    "lesArbres_par_quartier.head()"
   ]
  },
  {
   "cell_type": "code",
   "execution_count": 123,
   "metadata": {},
   "outputs": [],
   "source": [
    "# je modifie\n",
    "serieArbres_par_quartier = lesArbres_par_quartier.size()"
   ]
  },
  {
   "cell_type": "code",
   "execution_count": 124,
   "metadata": {},
   "outputs": [
    {
     "data": {
      "text/plain": [
       "pandas.core.series.Series"
      ]
     },
     "execution_count": 124,
     "metadata": {},
     "output_type": "execute_result"
    }
   ],
   "source": [
    "type(serieArbres_par_quartier)"
   ]
  },
  {
   "cell_type": "code",
   "execution_count": 148,
   "metadata": {},
   "outputs": [],
   "source": [
    "serieArbres_par_quartier\n",
    "# il ya 80 quartiers donc je vérifie bien la taille de la série fabriquée par regroupement\n",
    "# sur les 391 entrées fournies par le fichier arbres traités par groupby"
   ]
  },
  {
   "cell_type": "code",
   "execution_count": 141,
   "metadata": {},
   "outputs": [],
   "source": [
    "DF_lesArbres_par_quartier = serieArbres_par_quartier.to_frame(name='nombre_d_arbres')"
   ]
  },
  {
   "cell_type": "code",
   "execution_count": 147,
   "metadata": {},
   "outputs": [],
   "source": [
    "DF_lesArbres_par_quartier"
   ]
  },
  {
   "cell_type": "code",
   "execution_count": 143,
   "metadata": {},
   "outputs": [],
   "source": [
    "quartiers_et_arbres = pd.merge(quartiers, DF_lesArbres_par_quartier, on='district_name')"
   ]
  },
  {
   "cell_type": "code",
   "execution_count": 146,
   "metadata": {},
   "outputs": [
    {
     "data": {
      "text/html": [
       "<div>\n",
       "<style scoped>\n",
       "    .dataframe tbody tr th:only-of-type {\n",
       "        vertical-align: middle;\n",
       "    }\n",
       "\n",
       "    .dataframe tbody tr th {\n",
       "        vertical-align: top;\n",
       "    }\n",
       "\n",
       "    .dataframe thead th {\n",
       "        text-align: right;\n",
       "    }\n",
       "</style>\n",
       "<table border=\"1\" class=\"dataframe\">\n",
       "  <thead>\n",
       "    <tr style=\"text-align: right;\">\n",
       "      <th></th>\n",
       "      <th>id</th>\n",
       "      <th>district_name</th>\n",
       "      <th>population</th>\n",
       "      <th>geometry</th>\n",
       "      <th>nombre_d_arbres</th>\n",
       "    </tr>\n",
       "  </thead>\n",
       "  <tbody>\n",
       "    <tr>\n",
       "      <th>0</th>\n",
       "      <td>1</td>\n",
       "      <td>St-Germain-l'Auxerrois</td>\n",
       "      <td>1672</td>\n",
       "      <td>POLYGON ((451922.133 5411438.484, 451922.080 5...</td>\n",
       "      <td>40</td>\n",
       "    </tr>\n",
       "    <tr>\n",
       "      <th>1</th>\n",
       "      <td>2</td>\n",
       "      <td>Halles</td>\n",
       "      <td>8984</td>\n",
       "      <td>POLYGON ((452278.419 5412160.893, 452192.407 5...</td>\n",
       "      <td>40</td>\n",
       "    </tr>\n",
       "    <tr>\n",
       "      <th>2</th>\n",
       "      <td>3</td>\n",
       "      <td>Palais-Royal</td>\n",
       "      <td>3195</td>\n",
       "      <td>POLYGON ((451553.806 5412340.522, 451528.058 5...</td>\n",
       "      <td>4</td>\n",
       "    </tr>\n",
       "    <tr>\n",
       "      <th>3</th>\n",
       "      <td>4</td>\n",
       "      <td>Place-Vendôme</td>\n",
       "      <td>3044</td>\n",
       "      <td>POLYGON ((451004.908 5412654.095, 450960.640 5...</td>\n",
       "      <td>7</td>\n",
       "    </tr>\n",
       "    <tr>\n",
       "      <th>4</th>\n",
       "      <td>5</td>\n",
       "      <td>Gaillon</td>\n",
       "      <td>1345</td>\n",
       "      <td>POLYGON ((451328.752 5412991.278, 451294.721 5...</td>\n",
       "      <td>7</td>\n",
       "    </tr>\n",
       "  </tbody>\n",
       "</table>\n",
       "</div>"
      ],
      "text/plain": [
       "   id           district_name  population  \\\n",
       "0   1  St-Germain-l'Auxerrois        1672   \n",
       "1   2                  Halles        8984   \n",
       "2   3            Palais-Royal        3195   \n",
       "3   4           Place-Vendôme        3044   \n",
       "4   5                 Gaillon        1345   \n",
       "\n",
       "                                            geometry  nombre_d_arbres  \n",
       "0  POLYGON ((451922.133 5411438.484, 451922.080 5...               40  \n",
       "1  POLYGON ((452278.419 5412160.893, 452192.407 5...               40  \n",
       "2  POLYGON ((451553.806 5412340.522, 451528.058 5...                4  \n",
       "3  POLYGON ((451004.908 5412654.095, 450960.640 5...                7  \n",
       "4  POLYGON ((451328.752 5412991.278, 451294.721 5...                7  "
      ]
     },
     "execution_count": 146,
     "metadata": {},
     "output_type": "execute_result"
    }
   ],
   "source": [
    "quartiers_et_arbres.head()"
   ]
  },
  {
   "cell_type": "code",
   "execution_count": 149,
   "metadata": {},
   "outputs": [],
   "source": [
    "quartiers_et_arbres['nbrAbresSuperficie']= quartiers_et_arbres['nombre_d_arbres']\\\n",
    "                                                / quartiers_et_arbres.geometry.area"
   ]
  },
  {
   "cell_type": "code",
   "execution_count": 152,
   "metadata": {},
   "outputs": [],
   "source": [
    "#quartiers_et_arbres.head()"
   ]
  },
  {
   "cell_type": "code",
   "execution_count": 154,
   "metadata": {},
   "outputs": [
    {
     "data": {
      "image/png": "[encoded data removed]",
      "text/plain": [
       "<Figure size 864x432 with 1 Axes>"
      ]
     },
     "metadata": {
      "needs_background": "light"
     },
     "output_type": "display_data"
    }
   ],
   "source": [
    "ax = quartiers_et_arbres.plot(column='nbrAbresSuperficie', figsize=(12,6))\n",
    "ax.set_axis_off()"
   ]
  },
  {
   "cell_type": "markdown",
   "metadata": {},
   "source": [
    "###  QUESTION 4 (Overlay)\n",
    "\n",
    "Jusqu'à présent, on ne modifiait pas les objets géométriques suite aux opérations de jonction spatiale."
   ]
  },
  {
   "cell_type": "code",
   "execution_count": 155,
   "metadata": {},
   "outputs": [],
   "source": [
    "# On va considérer 2 dataframes avec des objets géométriques"
   ]
  },
  {
   "cell_type": "code",
   "execution_count": 156,
   "metadata": {},
   "outputs": [],
   "source": [
    "lesPays = geopandas.read_file(\"zip://./data/ne_110m_admin_0_countries.zip\")"
   ]
  },
  {
   "cell_type": "code",
   "execution_count": 157,
   "metadata": {},
   "outputs": [],
   "source": [
    "afrique = lesPays[ lesPays['continent'] == 'Africa']"
   ]
  },
  {
   "cell_type": "code",
   "execution_count": 158,
   "metadata": {},
   "outputs": [
    {
     "data": {
      "image/png": "[encoded data removed]",
      "text/plain": [
       "<Figure size 432x288 with 1 Axes>"
      ]
     },
     "metadata": {
      "needs_background": "light"
     },
     "output_type": "display_data"
    }
   ],
   "source": [
    "ax = afrique.plot()\n",
    "ax.set_axis_off()"
   ]
  },
  {
   "cell_type": "code",
   "execution_count": 159,
   "metadata": {},
   "outputs": [],
   "source": [
    "lesVilles['geometry'] = lesVilles.buffer(2)"
   ]
  },
  {
   "cell_type": "code",
   "execution_count": 160,
   "metadata": {},
   "outputs": [
    {
     "data": {
      "image/png": "[encoded data removed]",
      "text/plain": [
       "<Figure size 432x288 with 1 Axes>"
      ]
     },
     "metadata": {
      "needs_background": "light"
     },
     "output_type": "display_data"
    }
   ],
   "source": [
    "ax = lesVilles.plot()\n",
    "ax.set_axis_off()"
   ]
  },
  {
   "cell_type": "code",
   "execution_count": 162,
   "metadata": {},
   "outputs": [],
   "source": [
    "#lesVilles.head()"
   ]
  },
  {
   "cell_type": "code",
   "execution_count": 163,
   "metadata": {},
   "outputs": [],
   "source": [
    "rep = geopandas.overlay(afrique, lesVilles, how='difference')"
   ]
  },
  {
   "cell_type": "code",
   "execution_count": 164,
   "metadata": {},
   "outputs": [
    {
     "data": {
      "image/png": "[encoded data removed]",
      "text/plain": [
       "<Figure size 432x288 with 1 Axes>"
      ]
     },
     "metadata": {
      "needs_background": "light"
     },
     "output_type": "display_data"
    }
   ],
   "source": [
    "ax = rep.plot()\n",
    "ax.set_axis_off()"
   ]
  },
  {
   "cell_type": "markdown",
   "metadata": {},
   "source": [
    "###  QUESTION 5\n",
    " les espaces verts à Paris par quartier?"
   ]
  },
  {
   "cell_type": "code",
   "execution_count": 165,
   "metadata": {},
   "outputs": [],
   "source": [
    "util_Sols = geopandas.read_file(\"zip://./data/paris_land_use.zip\")"
   ]
  },
  {
   "cell_type": "code",
   "execution_count": 169,
   "metadata": {},
   "outputs": [
    {
     "data": {
      "text/html": [
       "<div>\n",
       "<style scoped>\n",
       "    .dataframe tbody tr th:only-of-type {\n",
       "        vertical-align: middle;\n",
       "    }\n",
       "\n",
       "    .dataframe tbody tr th {\n",
       "        vertical-align: top;\n",
       "    }\n",
       "\n",
       "    .dataframe thead th {\n",
       "        text-align: right;\n",
       "    }\n",
       "</style>\n",
       "<table border=\"1\" class=\"dataframe\">\n",
       "  <thead>\n",
       "    <tr style=\"text-align: right;\">\n",
       "      <th></th>\n",
       "      <th>class</th>\n",
       "      <th>geometry</th>\n",
       "    </tr>\n",
       "  </thead>\n",
       "  <tbody>\n",
       "    <tr>\n",
       "      <th>0</th>\n",
       "      <td>Water bodies</td>\n",
       "      <td>POLYGON ((3751386.281 2890064.323, 3751395.345...</td>\n",
       "    </tr>\n",
       "    <tr>\n",
       "      <th>1</th>\n",
       "      <td>Roads and associated land</td>\n",
       "      <td>POLYGON ((3751390.345 2886000.000, 3751390.345...</td>\n",
       "    </tr>\n",
       "    <tr>\n",
       "      <th>2</th>\n",
       "      <td>Roads and associated land</td>\n",
       "      <td>POLYGON ((3751390.345 2886898.192, 3751390.370...</td>\n",
       "    </tr>\n",
       "    <tr>\n",
       "      <th>3</th>\n",
       "      <td>Roads and associated land</td>\n",
       "      <td>POLYGON ((3751390.345 2887500.000, 3751390.345...</td>\n",
       "    </tr>\n",
       "    <tr>\n",
       "      <th>4</th>\n",
       "      <td>Roads and associated land</td>\n",
       "      <td>POLYGON ((3751390.345 2888647.357, 3751390.370...</td>\n",
       "    </tr>\n",
       "  </tbody>\n",
       "</table>\n",
       "</div>"
      ],
      "text/plain": [
       "                       class  \\\n",
       "0               Water bodies   \n",
       "1  Roads and associated land   \n",
       "2  Roads and associated land   \n",
       "3  Roads and associated land   \n",
       "4  Roads and associated land   \n",
       "\n",
       "                                            geometry  \n",
       "0  POLYGON ((3751386.281 2890064.323, 3751395.345...  \n",
       "1  POLYGON ((3751390.345 2886000.000, 3751390.345...  \n",
       "2  POLYGON ((3751390.345 2886898.192, 3751390.370...  \n",
       "3  POLYGON ((3751390.345 2887500.000, 3751390.345...  \n",
       "4  POLYGON ((3751390.345 2888647.357, 3751390.370...  "
      ]
     },
     "execution_count": 169,
     "metadata": {},
     "output_type": "execute_result"
    }
   ],
   "source": [
    "util_Sols.head()"
   ]
  },
  {
   "cell_type": "code",
   "execution_count": 171,
   "metadata": {},
   "outputs": [],
   "source": [
    "#ax = util_Sols.plot(column='class', legend=True, figsize=(15,10))\n",
    "#ax.set_axis_off()"
   ]
  },
  {
   "cell_type": "code",
   "execution_count": 182,
   "metadata": {},
   "outputs": [],
   "source": [
    "util_Sols['superficie'] = util_Sols.geometry.area"
   ]
  },
  {
   "cell_type": "code",
   "execution_count": 183,
   "metadata": {},
   "outputs": [],
   "source": [
    "# util_Sols --> mon dataframe de départ\n",
    "aires1 = util_Sols.groupby('class')  # regroupement des aires"
   ]
  },
  {
   "cell_type": "code",
   "execution_count": 184,
   "metadata": {},
   "outputs": [
    {
     "data": {
      "text/plain": [
       "<pandas.core.groupby.generic.DataFrameGroupBy object at 0x7fd6c95a8d90>"
      ]
     },
     "execution_count": 184,
     "metadata": {},
     "output_type": "execute_result"
    }
   ],
   "source": [
    "aires1"
   ]
  },
  {
   "cell_type": "code",
   "execution_count": 185,
   "metadata": {},
   "outputs": [],
   "source": [
    "aires2 = aires1['superficie']  # une serie de la dataframe (1 colonne)\n",
    "aires_totales = aires2.sum() / 1000*2"
   ]
  },
  {
   "cell_type": "code",
   "execution_count": 186,
   "metadata": {},
   "outputs": [
    {
     "data": {
      "text/plain": [
       "class\n",
       "Continuous Urban Fabric             91886.180071\n",
       "Discontinuous Dense Urban Fabric     7314.686511\n",
       "Green urban areas                   19716.876901\n",
       "Industrial, commercial, public      26590.083966\n",
       "Railways and associated land         3871.586357\n",
       "Roads and associated land           14803.148676\n",
       "Sports and leisure facilities        7157.018516\n",
       "Water bodies                         6379.411015\n",
       "Name: superficie, dtype: float64"
      ]
     },
     "execution_count": 186,
     "metadata": {},
     "output_type": "execute_result"
    }
   ],
   "source": [
    "aires_totales"
   ]
  },
  {
   "cell_type": "code",
   "execution_count": 175,
   "metadata": {},
   "outputs": [],
   "source": [
    "quartiers = geopandas.read_file(\"data/paris_districts.geojson\").to_crs(util_Sols.crs)"
   ]
  },
  {
   "cell_type": "code",
   "execution_count": 187,
   "metadata": {},
   "outputs": [],
   "source": [
    "boisDeBoulogne = util_Sols[util_Sols['class'] == \"Green urban areas\"].sort_values('superficie').geometry.iloc[-1]"
   ]
  },
  {
   "cell_type": "code",
   "execution_count": 189,
   "metadata": {},
   "outputs": [],
   "source": [
    "quartierMuette = quartiers[quartiers.district_name == 'Muette'].geometry.squeeze()"
   ]
  },
  {
   "cell_type": "code",
   "execution_count": 191,
   "metadata": {},
   "outputs": [
    {
     "data": {
      "image/png": "[encoded data removed]",
      "text/plain": [
       "<Figure size 432x288 with 1 Axes>"
      ]
     },
     "metadata": {
      "needs_background": "light"
     },
     "output_type": "display_data"
    }
   ],
   "source": [
    "ax = geopandas.GeoSeries([boisDeBoulogne, quartierMuette]).plot(color=['green', 'blue'], alpha=0.5)"
   ]
  },
  {
   "cell_type": "code",
   "execution_count": 192,
   "metadata": {},
   "outputs": [],
   "source": [
    "intersection = boisDeBoulogne.intersection(quartierMuette)"
   ]
  },
  {
   "cell_type": "code",
   "execution_count": 193,
   "metadata": {},
   "outputs": [
    {
     "data": {
      "image/png": "[encoded data removed]",
      "text/plain": [
       "<Figure size 432x288 with 1 Axes>"
      ]
     },
     "metadata": {
      "needs_background": "light"
     },
     "output_type": "display_data"
    }
   ],
   "source": [
    "ax = geopandas.GeoSeries([intersection]).plot(color='red')"
   ]
  },
  {
   "cell_type": "code",
   "execution_count": null,
   "metadata": {},
   "outputs": [],
   "source": [
    "# On voit ainsi la manière pour fabriquer de nouvelles données pour les objets géométriques."
   ]
  }
 ],
 "metadata": {
  "kernelspec": {
   "display_name": "Python 3",
   "language": "python",
   "name": "python3"
  },
  "language_info": {
   "codemirror_mode": {
    "name": "ipython",
    "version": 3
   },
   "file_extension": ".py",
   "mimetype": "text/x-python",
   "name": "python",
   "nbconvert_exporter": "python",
   "pygments_lexer": "ipython3",
   "version": "3.7.7"
  }
 },
 "nbformat": 4,
 "nbformat_minor": 4
}
